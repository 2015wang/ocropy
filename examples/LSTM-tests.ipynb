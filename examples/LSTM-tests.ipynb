{
 "metadata": {
  "name": "LSTM-tests"
 },
 "nbformat": 3,
 "nbformat_minor": 0,
 "worksheets": [
  {
   "cells": [
    {
     "cell_type": "code",
     "collapsed": false,
     "input": [
      "from pylab import *\n",
      "from pdb import pm\n",
      "import random as pyrandom\n",
      "import rnntests; reload(rnntests)\n",
      "import lstm; reload(lstm)\n",
      "from scipy.spatial.distance import cdist,euclidean\n",
      "from functools import partial"
     ],
     "language": "python",
     "metadata": {},
     "outputs": [],
     "prompt_number": 1
    },
    {
     "cell_type": "markdown",
     "metadata": {},
     "source": [
      "We use the following simple function for testing under different conditions."
     ]
    },
    {
     "cell_type": "code",
     "collapsed": false,
     "input": [
      "def plot_test(genseq,ntrial=50000,every=10000,net=None,threshold=inf,r=1e-1):\n",
      "    for attempt in range(10):\n",
      "        clf()\n",
      "        if net is None: net = lstm.LSTM1(2,2,1)\n",
      "        net.setLearningRate(r,0.0)\n",
      "        errs = []\n",
      "        test_xs,test_ys = genseq(example=1)\n",
      "        plot(test_xs,'yo')\n",
      "        plot(test_ys,color='gray',linestyle='dashed',linewidth=3)\n",
      "        for trial in range(ntrial+1):\n",
      "            xs,ys = genseq()\n",
      "            net.verobse = (trial%every==0)\n",
      "            preds = net.train(xs,ys)\n",
      "            preds = array(preds)\n",
      "            errs.append(mean([euclidean(u,v) for u,v in zip(ys,preds)]))\n",
      "            if trial%every==0:\n",
      "                print trial,mean(errs[-1000:])\n",
      "                preds = net.predict(test_xs)\n",
      "                plot(preds,color=cm.YlGnBu(trial*1.0/ntrial),alpha=0.5)\n",
      "                draw()\n",
      "        error = mean(errs[-1000:])\n",
      "        print \"final\",error,\"threshold\",threshold\n",
      "        if error<threshold: break\n",
      "        print \"restarting\""
     ],
     "language": "python",
     "metadata": {},
     "outputs": [],
     "prompt_number": 2
    },
    {
     "cell_type": "heading",
     "level": 1,
     "metadata": {},
     "source": [
      "Basic Tests"
     ]
    },
    {
     "cell_type": "markdown",
     "metadata": {},
     "source": [
      "Note that not all of these test cases may converge all the time.\n",
      "The code for generating the test cases is found in `rnntests.py`"
     ]
    },
    {
     "cell_type": "markdown",
     "metadata": {},
     "source": [
      "Simple thresholding, no temporal dependencies."
     ]
    },
    {
     "cell_type": "code",
     "collapsed": false,
     "input": [
      "plot_test(partial(rnntests.generate_threshold,n=50,threshold=0.02))"
     ],
     "language": "python",
     "metadata": {},
     "outputs": [
      {
       "output_type": "stream",
       "stream": "stdout",
       "text": [
        "0 0.455088391217\n",
        "10000"
       ]
      },
      {
       "output_type": "stream",
       "stream": "stdout",
       "text": [
        " 0.00306544886039\n",
        "20000"
       ]
      },
      {
       "output_type": "stream",
       "stream": "stdout",
       "text": [
        " 0.00267367679104\n",
        "30000"
       ]
      },
      {
       "output_type": "stream",
       "stream": "stdout",
       "text": [
        " 0.0022884785632\n",
        "40000"
       ]
      },
      {
       "output_type": "stream",
       "stream": "stdout",
       "text": [
        " 0.00215815364698\n",
        "50000"
       ]
      },
      {
       "output_type": "stream",
       "stream": "stdout",
       "text": [
        " 0.00213748223972\n",
        "final 0.00213748223972 threshold inf\n"
       ]
      },
      {
       "output_type": "display_data",
       "png": "[encoded data removed]"
      }
     ],
     "prompt_number": 3
    },
    {
     "cell_type": "markdown",
     "metadata": {},
     "source": [
      "Generating a simple, regular pulse."
     ]
    },
    {
     "cell_type": "code",
     "collapsed": false,
     "input": [
      "reload(lstm)\n",
      "plot_test(partial(rnntests.generate_mod,n=50),ntrial=200000,threshold=0.02,r=1e-4)"
     ],
     "language": "python",
     "metadata": {},
     "outputs": [
      {
       "output_type": "stream",
       "stream": "stdout",
       "text": [
        "0 0.511556588496\n",
        "10000"
       ]
      },
      {
       "output_type": "stream",
       "stream": "stdout",
       "text": [
        " 0.452623181056\n",
        "20000"
       ]
      },
      {
       "output_type": "stream",
       "stream": "stdout",
       "text": [
        " 0.449018868145\n",
        "30000"
       ]
      },
      {
       "output_type": "stream",
       "stream": "stdout",
       "text": [
        " 0.448755927879\n",
        "40000"
       ]
      },
      {
       "output_type": "stream",
       "stream": "stdout",
       "text": [
        " 0.448733655074\n",
        "50000"
       ]
      },
      {
       "output_type": "stream",
       "stream": "stdout",
       "text": [
        " 0.448730199041\n",
        "60000"
       ]
      },
      {
       "output_type": "stream",
       "stream": "stdout",
       "text": [
        " 0.448726504826\n",
        "70000"
       ]
      },
      {
       "output_type": "stream",
       "stream": "stdout",
       "text": [
        " 0.448720996367\n",
        "80000"
       ]
      },
      {
       "output_type": "stream",
       "stream": "stdout",
       "text": [
        " 0.448717119991\n",
        "90000"
       ]
      },
      {
       "output_type": "stream",
       "stream": "stdout",
       "text": [
        " 0.44871298873\n",
        "100000"
       ]
      },
      {
       "output_type": "stream",
       "stream": "stdout",
       "text": [
        " 0.448708935404\n",
        "110000"
       ]
      },
      {
       "output_type": "stream",
       "stream": "stdout",
       "text": [
        " 0.448700596498\n",
        "120000"
       ]
      },
      {
       "output_type": "stream",
       "stream": "stdout",
       "text": [
        " 0.448696412285\n",
        "130000"
       ]
      },
      {
       "output_type": "stream",
       "stream": "stdout",
       "text": [
        " 0.448692279127\n",
        "140000"
       ]
      },
      {
       "output_type": "stream",
       "stream": "stdout",
       "text": [
        " 0.448690177331\n",
        "150000"
       ]
      },
      {
       "output_type": "stream",
       "stream": "stdout",
       "text": [
        " 0.448679563668\n",
        "160000"
       ]
      },
      {
       "output_type": "stream",
       "stream": "stdout",
       "text": [
        " 0.448673925744\n",
        "170000"
       ]
      },
      {
       "output_type": "stream",
       "stream": "stdout",
       "text": [
        " 0.448670467577\n",
        "180000"
       ]
      },
      {
       "output_type": "stream",
       "stream": "stdout",
       "text": [
        " 0.448663147426\n",
        "190000"
       ]
      },
      {
       "output_type": "stream",
       "stream": "stdout",
       "text": [
        " 0.448651306732\n",
        "200000"
       ]
      },
      {
       "output_type": "stream",
       "stream": "stdout",
       "text": [
        " 0.448648311776\n",
        "final 0.448648311776 threshold 0.02\n",
        "restarting\n",
        "0"
       ]
      },
      {
       "output_type": "stream",
       "stream": "stdout",
       "text": [
        " 0.448574269514\n",
        "10000"
       ]
      },
      {
       "output_type": "stream",
       "stream": "stdout",
       "text": [
        " 0.448640464005\n",
        "20000"
       ]
      },
      {
       "output_type": "stream",
       "stream": "stdout",
       "text": [
        " 0.448637016264\n",
        "30000"
       ]
      },
      {
       "output_type": "stream",
       "stream": "stdout",
       "text": [
        " 0.448623482782\n",
        "40000"
       ]
      },
      {
       "output_type": "stream",
       "stream": "stdout",
       "text": [
        " 0.448616402632\n",
        "50000"
       ]
      },
      {
       "output_type": "stream",
       "stream": "stdout",
       "text": [
        " 0.448605245762\n",
        "60000"
       ]
      },
      {
       "output_type": "stream",
       "stream": "stdout",
       "text": [
        " 0.448602357118\n",
        "70000"
       ]
      },
      {
       "output_type": "stream",
       "stream": "stdout",
       "text": [
        " 0.448583068838\n",
        "80000"
       ]
      },
      {
       "output_type": "stream",
       "stream": "stdout",
       "text": [
        " 0.448578911804\n",
        "90000"
       ]
      },
      {
       "output_type": "stream",
       "stream": "stdout",
       "text": [
        " 0.448572193374\n",
        "100000"
       ]
      },
      {
       "output_type": "stream",
       "stream": "stdout",
       "text": [
        " 0.448560145115\n",
        "110000"
       ]
      },
      {
       "output_type": "stream",
       "stream": "stdout",
       "text": [
        " 0.448542005306\n",
        "120000"
       ]
      },
      {
       "output_type": "stream",
       "stream": "stdout",
       "text": [
        " 0.448529872433\n",
        "130000"
       ]
      },
      {
       "output_type": "stream",
       "stream": "stdout",
       "text": [
        " 0.448525794109\n",
        "140000"
       ]
      },
      {
       "output_type": "stream",
       "stream": "stdout",
       "text": [
        " 0.448506553468\n",
        "150000"
       ]
      },
      {
       "output_type": "stream",
       "stream": "stdout",
       "text": [
        " 0.448490997482\n",
        "160000"
       ]
      },
      {
       "output_type": "stream",
       "stream": "stdout",
       "text": [
        " 0.448480797108\n",
        "170000"
       ]
      },
      {
       "output_type": "stream",
       "stream": "stdout",
       "text": [
        " 0.448456234055\n",
        "180000"
       ]
      },
      {
       "output_type": "stream",
       "stream": "stdout",
       "text": [
        " 0.448451690863\n",
        "190000"
       ]
      },
      {
       "output_type": "stream",
       "stream": "stdout",
       "text": [
        " 0.448431235338\n",
        "200000"
       ]
      },
      {
       "output_type": "stream",
       "stream": "stdout",
       "text": [
        " 0.448416081281\n",
        "final 0.448416081281 threshold 0.02\n",
        "restarting\n",
        "0"
       ]
      },
      {
       "output_type": "stream",
       "stream": "stdout",
       "text": [
        " 0.448157473988\n",
        "10000"
       ]
      },
      {
       "output_type": "stream",
       "stream": "stdout",
       "text": [
        " 0.448401374223\n",
        "20000"
       ]
      },
      {
       "output_type": "stream",
       "stream": "stdout",
       "text": [
        " 0.44837956575\n",
        "30000"
       ]
      },
      {
       "output_type": "stream",
       "stream": "stdout",
       "text": [
        " 0.448364523705\n",
        "40000"
       ]
      },
      {
       "output_type": "stream",
       "stream": "stdout",
       "text": [
        " 0.44832897055\n",
        "50000"
       ]
      }
     ],
     "prompt_number": "*"
    },
    {
     "cell_type": "markdown",
     "metadata": {},
     "source": [
      "Simple regular pulse with a start signal."
     ]
    },
    {
     "cell_type": "code",
     "collapsed": false,
     "input": [
      "plot_test(partial(rnntests.generate_dmod,n=50),ntrial=200000,threshold=0.02)"
     ],
     "language": "python",
     "metadata": {},
     "outputs": []
    },
    {
     "cell_type": "markdown",
     "metadata": {},
     "source": [
      "Count pulses mod 3."
     ]
    },
    {
     "cell_type": "code",
     "collapsed": false,
     "input": [
      "plot_test(partial(rnntests.generate_imod,n=50),ntrial=200000,threshold=0.02)"
     ],
     "language": "python",
     "metadata": {},
     "outputs": []
    },
    {
     "cell_type": "markdown",
     "metadata": {},
     "source": [
      "Count pulses mod 3, using a slightly simpler test case."
     ]
    },
    {
     "cell_type": "code",
     "collapsed": false,
     "input": [
      "plot_test(partial(rnntests.generate_smod,n=50),ntrial=200000,threshold=0.02)"
     ],
     "language": "python",
     "metadata": {},
     "outputs": []
    },
    {
     "cell_type": "code",
     "collapsed": false,
     "input": [
      "reload(rnntests)\n",
      "plot_test(partial(rnntests.generate_detect,n=50),ntrial=200000)"
     ],
     "language": "python",
     "metadata": {},
     "outputs": []
    },
    {
     "cell_type": "heading",
     "level": 1,
     "metadata": {},
     "source": [
      "Timing Dependencies"
     ]
    },
    {
     "cell_type": "markdown",
     "metadata": {},
     "source": [
      "Identify pulses that are preceded by a minmal period of \"silence\". Note that these cases are surprisingly difficult to learn if the timing threshold has to be precise."
     ]
    },
    {
     "cell_type": "code",
     "collapsed": false,
     "input": [
      "plot_test(partial(rnntests.generate_timing,n=50),ntrial=300000,threshold=0.02)"
     ],
     "language": "python",
     "metadata": {},
     "outputs": []
    },
    {
     "cell_type": "heading",
     "level": 1,
     "metadata": {},
     "source": [
      "Reversed Models"
     ]
    },
    {
     "cell_type": "markdown",
     "metadata": {},
     "source": [
      "Regular LSTM only models causally. If we reverse the timing relationship above,\n",
      "a regular LSTM cannot learn it anymore."
     ]
    },
    {
     "cell_type": "code",
     "collapsed": false,
     "input": [
      "reload(rnntests)\n",
      "plot_test(partial(rnntests.generate_revdetect,n=50),ntrial=50000)"
     ],
     "language": "python",
     "metadata": {},
     "outputs": []
    },
    {
     "cell_type": "code",
     "collapsed": false,
     "input": [
      "reload(lstm)\n",
      "net = lstm.Reversed(lstm.LSTM1(2,2,1))\n",
      "plot_test(partial(rnntests.generate_revdetect,n=50),net=net,ntrial=50000,threshold=0.02)"
     ],
     "language": "python",
     "metadata": {},
     "outputs": []
    },
    {
     "cell_type": "heading",
     "level": 1,
     "metadata": {},
     "source": [
      "Bidirectional Models"
     ]
    },
    {
     "cell_type": "markdown",
     "metadata": {},
     "source": [
      "Dependencies may also exist in both directions. In that case, neither forward nor\n",
      "backward detection will work."
     ]
    },
    {
     "cell_type": "code",
     "collapsed": false,
     "input": [
      "reload(rnntests)\n",
      "plot_test(partial(rnntests.generate_bididetect,n=50),ntrial=50000,threshold=0.02)"
     ],
     "language": "python",
     "metadata": {},
     "outputs": []
    },
    {
     "cell_type": "markdown",
     "metadata": {},
     "source": [
      "However, a bidirectional LSTM works in this case. It's a safe choice for lots\n",
      "of classification tasks involving sequences."
     ]
    },
    {
     "cell_type": "code",
     "collapsed": true,
     "input": [
      "reload(lstm)\n",
      "net = lstm.BIDILSTM(2,2,1)\n",
      "plot_test(partial(rnntests.generate_bididetect,n=50),net=net,ntrial=50000,threshold=0.02)"
     ],
     "language": "python",
     "metadata": {},
     "outputs": []
    },
    {
     "cell_type": "code",
     "collapsed": false,
     "input": [],
     "language": "python",
     "metadata": {},
     "outputs": []
    }
   ],
   "metadata": {}
  }
 ]
}
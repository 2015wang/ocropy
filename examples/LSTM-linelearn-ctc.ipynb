{
 "metadata": {
  "name": "LSTM-linelearn-ctc"
 },
 "nbformat": 3,
 "nbformat_minor": 0,
 "worksheets": [
  {
   "cells": [
    {
     "cell_type": "code",
     "collapsed": false,
     "input": [
      "from pylab import *\n",
      "from scipy.ndimage import morphology,measurements\n",
      "import os.path\n",
      "import glob\n",
      "import ocrolib\n",
      "import rnnscript\n",
      "import argparse\n",
      "from ocrolib.lineest import make_normalizer\n",
      "import lstm; reload(lstm)"
     ],
     "language": "python",
     "metadata": {},
     "outputs": [
      {
       "output_type": "pyout",
       "prompt_number": 1,
       "text": [
        "<module 'lstm' from 'lstm.pyc'>"
       ]
      }
     ],
     "prompt_number": 1
    },
    {
     "cell_type": "code",
     "collapsed": false,
     "input": [
      "codec = rnnscript.ocropus_codec()\n",
      "print \"# codec\",codec.size()\n",
      "nclasses = len(codec.labels().split(\",\"))"
     ],
     "language": "python",
     "metadata": {},
     "outputs": [
      {
       "output_type": "stream",
       "stream": "stdout",
       "text": [
        "# codec 158\n"
       ]
      }
     ],
     "prompt_number": 2
    },
    {
     "cell_type": "code",
     "collapsed": false,
     "input": [
      "trainer = lstm.SeqRecognizer(32,100,nclasses)\n",
      "trainer.setLearningRate(1e-4)\n",
      "best_quality = 1e99\n",
      "errors = []"
     ],
     "language": "python",
     "metadata": {},
     "outputs": [],
     "prompt_number": 3
    },
    {
     "cell_type": "code",
     "collapsed": false,
     "input": [
      "inputs = sorted(glob.glob(\"book/*/*.dew.png\"))\n",
      "print len(inputs)"
     ],
     "language": "python",
     "metadata": {},
     "outputs": [
      {
       "output_type": "stream",
       "stream": "stdout",
       "text": [
        "500\n"
       ]
      }
     ],
     "prompt_number": "*"
    },
    {
     "cell_type": "code",
     "collapsed": false,
     "input": [
      "for i,fname in list(enumerate(inputs))[:10]:\n",
      "    base,_ = ocrolib.allsplitext(fname)\n",
      "    try:\n",
      "        line = ocrolib.read_image_gray(fname)\n",
      "        transcript = ocrolib.read_text(base+\".gt.txt\")\n",
      "    except IOError as e:\n",
      "        print \"ERROR\",e\n",
      "        continue\n",
      "    print i,fname,line.shape\n",
      "    line = line * 1.0/amax(line)\n",
      "    line = amax(line)-line\n",
      "    line = line.T\n",
      "    cs = array(codec.encode(transcript),'i')\n",
      "    pcs = trainer.trainSequence(line,cs)\n",
      "    errors.append(trainer.error)\n",
      "    pred = \"\".join(codec.decode(pcs))"
     ],
     "language": "python",
     "metadata": {},
     "outputs": [
      {
       "output_type": "stream",
       "stream": "stdout",
       "text": [
        "0 book/0005/010001.dew.png (32, 298)\n",
        "1"
       ]
      },
      {
       "output_type": "stream",
       "stream": "stdout",
       "text": [
        " book/0011/010111.dew.png (32, 568)\n",
        "2"
       ]
      },
      {
       "output_type": "stream",
       "stream": "stdout",
       "text": [
        " book/0012/010036.dew.png (32, 552)\n",
        "3"
       ]
      },
      {
       "output_type": "stream",
       "stream": "stdout",
       "text": [
        " book/0012/010108.dew.png (32, 555)\n",
        "4"
       ]
      },
      {
       "output_type": "stream",
       "stream": "stdout",
       "text": [
        " book/0015/010023.dew.png (32, 894)\n",
        "5"
       ]
      },
      {
       "output_type": "stream",
       "stream": "stdout",
       "text": [
        " book/0022/010005.dew.png (32, 2204)\n",
        "6"
       ]
      },
      {
       "output_type": "stream",
       "stream": "stdout",
       "text": [
        " book/0026/010010.dew.png (32, 1467)\n",
        "7"
       ]
      }
     ],
     "prompt_number": "*"
    },
    {
     "cell_type": "code",
     "collapsed": false,
     "input": [
      "print pred"
     ],
     "language": "python",
     "metadata": {},
     "outputs": [],
     "prompt_number": "*"
    },
    {
     "cell_type": "code",
     "collapsed": false,
     "input": [],
     "language": "python",
     "metadata": {},
     "outputs": [],
     "prompt_number": "*"
    }
   ],
   "metadata": {}
  }
 ]
}
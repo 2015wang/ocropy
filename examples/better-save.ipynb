{
 "metadata": {
  "name": "",
  "signature": "sha256:0b1e2e7a3da87c4f84c0844609128d3ea8e0b7a336d4854390f684596783cd4b"
 },
 "nbformat": 3,
 "nbformat_minor": 0,
 "worksheets": [
  {
   "cells": [
    {
     "cell_type": "code",
     "collapsed": false,
     "input": [
      "import ocrolib\n",
      "import inspect\n",
      "import types\n",
      "import sys\n",
      "import numpy\n",
      "from collections import defaultdict"
     ],
     "language": "python",
     "metadata": {},
     "outputs": [],
     "prompt_number": 1
    },
    {
     "cell_type": "code",
     "collapsed": false,
     "input": [
      "%%time\n",
      "model = ocrolib.load_object(\"models/uw3unlv.pyrnn.gz\")"
     ],
     "language": "python",
     "metadata": {},
     "outputs": [
      {
       "output_type": "stream",
       "stream": "stdout",
       "text": [
        "CPU times: user 1.63 s, sys: 197 ms, total: 1.82 s\n",
        "Wall time: 2.17 s\n"
       ]
      }
     ],
     "prompt_number": 2
    },
    {
     "cell_type": "code",
     "collapsed": false,
     "input": [
      "def prsize(x,prefix=\"\",depth=0,off=False):\n",
      "    if type(x) in [types.MethodType,types.NoneType,types.FunctionType]:\n",
      "        return 0\n",
      "    if type(x)==types.InstanceType:\n",
      "        total = 0\n",
      "        for k,v in inspect.getmembers(x):\n",
      "            total += prsize(v,prefix+\".\"+k,depth=depth+1,off=off)\n",
      "        if not off: print prefix,total\n",
      "        return total\n",
      "    if type(x) in [dict,defaultdict]:\n",
      "        total = 0\n",
      "        for k,v in enumerate(x):\n",
      "            total += prsize(v,prefix+\".\"+str(k),depth=depth+1,off=True)\n",
      "        if not off: print prefix,total\n",
      "        return total    \n",
      "    if type(x) in [list,tuple]:\n",
      "        total = 0\n",
      "        off = off or len(x)>10\n",
      "        for k,v in enumerate(x):\n",
      "            total += prsize(v,prefix+\".\"+str(k),depth=depth+1,off=off)\n",
      "        if not off: print prefix,total\n",
      "        return total\n",
      "    if type(x)==numpy.ndarray:\n",
      "        total = x.size*x.itemsize + sys.getsizeof(x)\n",
      "        if not off: print prefix,total,x.shape\n",
      "        return total\n",
      "    if type(x) in [int,float,float32,float64,str,unicode]:\n",
      "        total = sys.getsizeof(x)\n",
      "        if not off: print prefix,total\n",
      "        return total\n",
      "    raise Exception(\"unknown type '%s' '%s'\"%(type(x),str(x)[:20]))"
     ],
     "language": "python",
     "metadata": {},
     "outputs": [],
     "prompt_number": 3
    },
    {
     "cell_type": "code",
     "collapsed": false,
     "input": [
      "prsize(model)"
     ],
     "language": "python",
     "metadata": {},
     "outputs": [
      {
       "output_type": "stream",
       "stream": "stdout",
       "text": [
        ".Ni 24\n",
        ".No 24\n",
        ".__doc__ 95\n",
        ".__module__ 49\n",
        ".aligned 615344 (493, 156)\n",
        ".cerror 24\n",
        ".cerror_log 0\n",
        ".codec.__doc__ 84\n",
        ".codec.__module__ 49\n",
        ".codec.char2code 8681\n",
        ".codec.code2char 3744\n",
        ".codec 12558\n",
        ".command_log 0\n",
        ".debug_align 24\n",
        ".error 24\n",
        ".error_log 0\n",
        ".key_log 0\n",
        ".last_trial 24\n",
        ".lnorm.__module__ 52\n",
        ".lnorm.debug 24\n",
        ".lnorm.extra 24\n",
        ".lnorm.range 24\n",
        ".lnorm.smoothness 24\n",
        ".lnorm.target_height 24\n",
        ".lnorm 172\n",
        ".lstm.__doc__ 77\n",
        ".lstm.__module__ 49\n",
        ".lstm.dstats 48\n",
        ".lstm.ldeltas.2 615344 (493, 156)\n",
        ".lstm.ldeltas 1837984\n",
        ".lstm.learning_rate 24\n",
        ".lstm.momentum 24\n",
        ".lstm.nets.0.__doc__ 89\n",
        ".lstm.nets.0.__module__ 49\n",
        ".lstm.nets.0.nets.0.DWCI 238880 (150, 199)\n",
        ".lstm.nets.0.nets.0.DWFP 1280 (150,)\n",
        ".lstm.nets.0.nets.0.DWGF 238880 (150, 199)\n",
        ".lstm.nets.0.nets.0.DWGI 238880 (150, 199)\n",
        ".lstm.nets.0.nets.0.DWGO 238880 (150, 199)\n",
        ".lstm.nets.0.nets.0.DWIP 1280 (150,)\n",
        ".lstm.nets.0.nets.0.DWOP 1280 (150,)\n",
        ".lstm.nets.0.nets.0.WCI 238880 (150, 199)\n",
        ".lstm.nets.0.nets.0.WFP 1280 (150,)\n",
        ".lstm.nets.0.nets.0.WGF 238880 (150, 199)\n",
        ".lstm.nets.0.nets.0.WGI 238880 (150, 199)\n",
        ".lstm.nets.0.nets.0.WGO 238880 (150, 199)\n",
        ".lstm.nets.0.nets.0.WIP 1280 (150,)\n",
        ".lstm.nets.0.nets.0.WOP 1280 (150,)\n",
        ".lstm.nets.0.nets.0.__doc__ 308\n",
        ".lstm.nets.0.nets.0.__module__ 49\n",
        ".lstm.nets.0.nets.0.ci 1280 (1, 150)\n",
        ".lstm.nets.0.nets.0.cierr 1280 (1, 150)\n",
        ".lstm.nets.0.nets.0.cix 1280 (1, 150)\n",
        ".lstm.nets.0.nets.0.dims.0 24\n",
        ".lstm.nets.0.nets.0.dims.1 24\n",
        ".lstm.nets.0.nets.0.dims.2 24\n",
        ".lstm.nets.0.nets.0.dims 72\n",
        ".lstm.nets.0.nets.0.gf 1280 (1, 150)\n",
        ".lstm.nets.0.nets.0.gferr 1280 (1, 150)\n",
        ".lstm.nets.0.nets.0.gfx 1280 (1, 150)\n",
        ".lstm.nets.0.nets.0.gi 1280 (1, 150)\n",
        ".lstm.nets.0.nets.0.gierr 1280 (1, 150)\n",
        ".lstm.nets.0.nets.0.gix 1280 (1, 150)\n",
        ".lstm.nets.0.nets.0.go 1280 (1, 150)\n",
        ".lstm.nets.0.nets.0.goerr 1280 (1, 150)\n",
        ".lstm.nets.0.nets.0.gox 1280 (1, 150)\n",
        ".lstm.nets.0.nets.0.last_n 24\n",
        ".lstm.nets.0.nets.0.max_n 24\n",
        ".lstm.nets.0.nets.0.outerr 1280 (1, 150)\n",
        ".lstm.nets.0.nets.0.output 1280 (1, 150)\n",
        ".lstm.nets.0.nets.0.source 1672 (1, 199)\n",
        ".lstm.nets.0.nets.0.sourceerr 1672 (1, 199)\n",
        ".lstm.nets.0.nets.0.state 1280 (1, 150)\n",
        ".lstm.nets.0.nets.0.stateerr 1280 (1, 150)\n",
        ".lstm.nets.0.nets.0 1943021\n",
        ".lstm.nets.0.nets.1.__doc__ 78\n",
        ".lstm.nets.0.nets.1.__module__ 49\n",
        ".lstm.nets.0.nets.1.net.DWCI 238880 (150, 199)\n",
        ".lstm.nets.0.nets.1.net.DWFP 1280 (150,)\n",
        ".lstm.nets.0.nets.1.net.DWGF 238880 (150, 199)\n",
        ".lstm.nets.0.nets.1.net.DWGI 238880 (150, 199)\n",
        ".lstm.nets.0.nets.1.net.DWGO 238880 (150, 199)\n",
        ".lstm.nets.0.nets.1.net.DWIP 1280 (150,)\n",
        ".lstm.nets.0.nets.1.net.DWOP 1280 (150,)\n",
        ".lstm.nets.0.nets.1.net.WCI 238880 (150, 199)\n",
        ".lstm.nets.0.nets.1.net.WFP 1280 (150,)\n",
        ".lstm.nets.0.nets.1.net.WGF 238880 (150, 199)\n",
        ".lstm.nets.0.nets.1.net.WGI 238880 (150, 199)\n",
        ".lstm.nets.0.nets.1.net.WGO 238880 (150, 199)\n",
        ".lstm.nets.0.nets.1.net.WIP 1280 (150,)\n",
        ".lstm.nets.0.nets.1.net.WOP 1280 (150,)\n",
        ".lstm.nets.0.nets.1.net.__doc__ 308\n",
        ".lstm.nets.0.nets.1.net.__module__ 49\n",
        ".lstm.nets.0.nets.1.net.ci 1280 (1, 150)\n",
        ".lstm.nets.0.nets.1.net.cierr 1280 (1, 150)\n",
        ".lstm.nets.0.nets.1.net.cix 1280 (1, 150)\n",
        ".lstm.nets.0.nets.1.net.dims.0 24\n",
        ".lstm.nets.0.nets.1.net.dims.1 24\n",
        ".lstm.nets.0.nets.1.net.dims.2 24\n",
        ".lstm.nets.0.nets.1.net.dims 72\n",
        ".lstm.nets.0.nets.1.net.gf 1280 (1, 150)\n",
        ".lstm.nets.0.nets.1.net.gferr 1280 (1, 150)\n",
        ".lstm.nets.0.nets.1.net.gfx 1280 (1, 150)\n",
        ".lstm.nets.0.nets.1.net.gi 1280 (1, 150)\n",
        ".lstm.nets.0.nets.1.net.gierr 1280 (1, 150)\n",
        ".lstm.nets.0.nets.1.net.gix 1280 (1, 150)\n",
        ".lstm.nets.0.nets.1.net.go 1280 (1, 150)\n",
        ".lstm.nets.0.nets.1.net.goerr 1280 (1, 150)\n",
        ".lstm.nets.0.nets.1.net.gox 1280 (1, 150)\n",
        ".lstm.nets.0.nets.1.net.last_n 24\n",
        ".lstm.nets.0.nets.1.net.max_n 24\n",
        ".lstm.nets.0.nets.1.net.outerr 1280 (1, 150)\n",
        ".lstm.nets.0.nets.1.net.output 1280 (1, 150)\n",
        ".lstm.nets.0.nets.1.net.source 1672 (1, 199)\n",
        ".lstm.nets.0.nets.1.net.sourceerr 1672 (1, 199)\n",
        ".lstm.nets.0.nets.1.net.state 1280 (1, 150)\n",
        ".lstm.nets.0.nets.1.net.stateerr 1280 (1, 150)\n",
        ".lstm.nets.0.nets.1.net 1943021\n",
        ".lstm.nets.0.nets.1 1943148\n",
        ".lstm.nets.0.nets 3886169\n",
        ".lstm.nets.0 3886307\n",
        ".lstm.nets.1.DW2 375728 (156, 301)\n",
        ".lstm.nets.1.Nh 24\n",
        ".lstm.nets.1.No 24\n",
        ".lstm.nets.1.W2 375728 (156, 301)\n",
        ".lstm.nets.1.__doc__ 142\n",
        ".lstm.nets.1.__module__ 49\n",
        ".lstm.nets.1.state 1881288\n",
        ".lstm.nets.1 2632983\n",
        ".lstm.nets 6519290\n",
        ".lstm.verbose 24\n",
        ".lstm 10651968\n",
        ".outputs 615344 (493, 156)\n",
        ".targets 68720 (55, 156)\n",
        " 11964394\n"
       ]
      },
      {
       "metadata": {},
       "output_type": "pyout",
       "prompt_number": 4,
       "text": [
        "11964394"
       ]
      }
     ],
     "prompt_number": 4
    },
    {
     "cell_type": "code",
     "collapsed": false,
     "input": [
      "for net in model.walk(): print type(net),net.__class__"
     ],
     "language": "python",
     "metadata": {},
     "outputs": [
      {
       "output_type": "stream",
       "stream": "stdout",
       "text": [
        "<type 'instance'> ocrolib.lstm.Stacked\n",
        "<type 'instance'> ocrolib.lstm.Parallel\n",
        "<type 'instance'> ocrolib.lstm.LSTM\n",
        "<type 'instance'> ocrolib.lstm.Reversed\n",
        "<type 'instance'> ocrolib.lstm.LSTM\n",
        "<type 'instance'> ocrolib.lstm.Softmax\n"
       ]
      }
     ],
     "prompt_number": 5
    },
    {
     "cell_type": "code",
     "collapsed": false,
     "input": [
      "for net in model.walk(): net.preSave()"
     ],
     "language": "python",
     "metadata": {},
     "outputs": [],
     "prompt_number": 6
    },
    {
     "cell_type": "code",
     "collapsed": false,
     "input": [
      "model.clear_log()"
     ],
     "language": "python",
     "metadata": {},
     "outputs": [],
     "prompt_number": 7
    },
    {
     "cell_type": "code",
     "collapsed": false,
     "input": [
      "prsize(model)"
     ],
     "language": "python",
     "metadata": {},
     "outputs": [
      {
       "output_type": "stream",
       "stream": "stdout",
       "text": [
        ".Ni 24\n",
        ".No 24\n",
        ".__doc__ 95\n",
        ".__module__ 49\n",
        ".aligned 615344 (493, 156)\n",
        ".cerror 24\n",
        ".cerror_log 0\n",
        ".codec.__doc__ 84\n",
        ".codec.__module__ 49\n",
        ".codec.char2code 8681\n",
        ".codec.code2char 3744\n",
        ".codec 12558\n",
        ".command_log 0\n",
        ".debug_align 24\n",
        ".error 24\n",
        ".error_log 0\n",
        ".key_log 0\n",
        ".last_trial 24\n",
        ".lnorm.__module__ 52\n",
        ".lnorm.debug 24\n",
        ".lnorm.extra 24\n",
        ".lnorm.range 24\n",
        ".lnorm.smoothness 24\n",
        ".lnorm.target_height 24\n",
        ".lnorm 172\n",
        ".lstm.__doc__ 77\n",
        ".lstm.__module__ 49\n",
        ".lstm.dstats 48\n",
        ".lstm.ldeltas.2 615344 (493, 156)\n",
        ".lstm.ldeltas 1837984\n",
        ".lstm.learning_rate 24\n",
        ".lstm.momentum 24\n",
        ".lstm.nets.0.__doc__ 89\n",
        ".lstm.nets.0.__module__ 49\n",
        ".lstm.nets.0.nets.0.DWCI 238880 (150, 199)\n",
        ".lstm.nets.0.nets.0.DWFP 1280 (150,)\n",
        ".lstm.nets.0.nets.0.DWGF 238880 (150, 199)\n",
        ".lstm.nets.0.nets.0.DWGI 238880 (150, 199)\n",
        ".lstm.nets.0.nets.0.DWGO 238880 (150, 199)\n",
        ".lstm.nets.0.nets.0.DWIP 1280 (150,)\n",
        ".lstm.nets.0.nets.0.DWOP 1280 (150,)\n",
        ".lstm.nets.0.nets.0.WCI 238880 (150, 199)\n",
        ".lstm.nets.0.nets.0.WFP 1280 (150,)\n",
        ".lstm.nets.0.nets.0.WGF 238880 (150, 199)\n",
        ".lstm.nets.0.nets.0.WGI 238880 (150, 199)\n",
        ".lstm.nets.0.nets.0.WGO 238880 (150, 199)\n",
        ".lstm.nets.0.nets.0.WIP 1280 (150,)\n",
        ".lstm.nets.0.nets.0.WOP 1280 (150,)\n",
        ".lstm.nets.0.nets.0.__doc__ 308\n",
        ".lstm.nets.0.nets.0.__module__ 49\n",
        ".lstm.nets.0.nets.0.ci 1280 (1, 150)\n",
        ".lstm.nets.0.nets.0.cierr 1280 (1, 150)\n",
        ".lstm.nets.0.nets.0.cix 1280 (1, 150)\n",
        ".lstm.nets.0.nets.0.dims.0 24\n",
        ".lstm.nets.0.nets.0.dims.1 24\n",
        ".lstm.nets.0.nets.0.dims.2 24\n",
        ".lstm.nets.0.nets.0.dims 72\n",
        ".lstm.nets.0.nets.0.gf 1280 (1, 150)\n",
        ".lstm.nets.0.nets.0.gferr 1280 (1, 150)\n",
        ".lstm.nets.0.nets.0.gfx 1280 (1, 150)\n",
        ".lstm.nets.0.nets.0.gi 1280 (1, 150)\n",
        ".lstm.nets.0.nets.0.gierr 1280 (1, 150)\n",
        ".lstm.nets.0.nets.0.gix 1280 (1, 150)\n",
        ".lstm.nets.0.nets.0.go 1280 (1, 150)\n",
        ".lstm.nets.0.nets.0.goerr 1280 (1, 150)\n",
        ".lstm.nets.0.nets.0.gox 1280 (1, 150)\n",
        ".lstm.nets.0.nets.0.last_n 24\n",
        ".lstm.nets.0.nets.0.max_n 24\n",
        ".lstm.nets.0.nets.0.outerr 1280 (1, 150)\n",
        ".lstm.nets.0.nets.0.output 1280 (1, 150)\n",
        ".lstm.nets.0.nets.0.source 1672 (1, 199)\n",
        ".lstm.nets.0.nets.0.sourceerr 1672 (1, 199)\n",
        ".lstm.nets.0.nets.0.state 1280 (1, 150)\n",
        ".lstm.nets.0.nets.0.stateerr 1280 (1, 150)\n",
        ".lstm.nets.0.nets.0 1943021\n",
        ".lstm.nets.0.nets.1.__doc__ 78\n",
        ".lstm.nets.0.nets.1.__module__ 49\n",
        ".lstm.nets.0.nets.1.net.DWCI 238880 (150, 199)\n",
        ".lstm.nets.0.nets.1.net.DWFP 1280 (150,)\n",
        ".lstm.nets.0.nets.1.net.DWGF 238880 (150, 199)\n",
        ".lstm.nets.0.nets.1.net.DWGI 238880 (150, 199)\n",
        ".lstm.nets.0.nets.1.net.DWGO 238880 (150, 199)\n",
        ".lstm.nets.0.nets.1.net.DWIP 1280 (150,)\n",
        ".lstm.nets.0.nets.1.net.DWOP 1280 (150,)\n",
        ".lstm.nets.0.nets.1.net.WCI 238880 (150, 199)\n",
        ".lstm.nets.0.nets.1.net.WFP 1280 (150,)\n",
        ".lstm.nets.0.nets.1.net.WGF 238880 (150, 199)\n",
        ".lstm.nets.0.nets.1.net.WGI 238880 (150, 199)\n",
        ".lstm.nets.0.nets.1.net.WGO 238880 (150, 199)\n",
        ".lstm.nets.0.nets.1.net.WIP 1280 (150,)\n",
        ".lstm.nets.0.nets.1.net.WOP 1280 (150,)\n",
        ".lstm.nets.0.nets.1.net.__doc__ 308\n",
        ".lstm.nets.0.nets.1.net.__module__ 49\n",
        ".lstm.nets.0.nets.1.net.ci 1280 (1, 150)\n",
        ".lstm.nets.0.nets.1.net.cierr 1280 (1, 150)\n",
        ".lstm.nets.0.nets.1.net.cix 1280 (1, 150)\n",
        ".lstm.nets.0.nets.1.net.dims.0 24\n",
        ".lstm.nets.0.nets.1.net.dims.1 24\n",
        ".lstm.nets.0.nets.1.net.dims.2 24\n",
        ".lstm.nets.0.nets.1.net.dims 72\n",
        ".lstm.nets.0.nets.1.net.gf 1280 (1, 150)\n",
        ".lstm.nets.0.nets.1.net.gferr 1280 (1, 150)\n",
        ".lstm.nets.0.nets.1.net.gfx 1280 (1, 150)\n",
        ".lstm.nets.0.nets.1.net.gi 1280 (1, 150)\n",
        ".lstm.nets.0.nets.1.net.gierr 1280 (1, 150)\n",
        ".lstm.nets.0.nets.1.net.gix 1280 (1, 150)\n",
        ".lstm.nets.0.nets.1.net.go 1280 (1, 150)\n",
        ".lstm.nets.0.nets.1.net.goerr 1280 (1, 150)\n",
        ".lstm.nets.0.nets.1.net.gox 1280 (1, 150)\n",
        ".lstm.nets.0.nets.1.net.last_n 24\n",
        ".lstm.nets.0.nets.1.net.max_n 24\n",
        ".lstm.nets.0.nets.1.net.outerr 1280 (1, 150)\n",
        ".lstm.nets.0.nets.1.net.output 1280 (1, 150)\n",
        ".lstm.nets.0.nets.1.net.source 1672 (1, 199)\n",
        ".lstm.nets.0.nets.1.net.sourceerr 1672 (1, 199)\n",
        ".lstm.nets.0.nets.1.net.state 1280 (1, 150)\n",
        ".lstm.nets.0.nets.1.net.stateerr 1280 (1, 150)\n",
        ".lstm.nets.0.nets.1.net 1943021\n",
        ".lstm.nets.0.nets.1 1943148\n",
        ".lstm.nets.0.nets 3886169\n",
        ".lstm.nets.0 3886307\n",
        ".lstm.nets.1.DW2 375728 (156, 301)\n",
        ".lstm.nets.1.Nh 24\n",
        ".lstm.nets.1.No 24\n",
        ".lstm.nets.1.W2 375728 (156, 301)\n",
        ".lstm.nets.1.__doc__ 142\n",
        ".lstm.nets.1.__module__ 49\n",
        ".lstm.nets.1.state 1881288\n",
        ".lstm.nets.1 2632983\n",
        ".lstm.nets 6519290\n",
        ".lstm.verbose 24\n",
        ".lstm 10651968\n",
        ".outputs 615344 (493, 156)\n",
        ".targets 68720 (55, 156)\n",
        " 11964394\n"
       ]
      },
      {
       "metadata": {},
       "output_type": "pyout",
       "prompt_number": 8,
       "text": [
        "11964394"
       ]
      }
     ],
     "prompt_number": 8
    },
    {
     "cell_type": "code",
     "collapsed": false,
     "input": [
      "%%time\n",
      "ocrolib.save_object(\"simple.pyrnn.gz\",model)"
     ],
     "language": "python",
     "metadata": {},
     "outputs": [
      {
       "output_type": "stream",
       "stream": "stdout",
       "text": [
        "CPU times: user 7.12 s, sys: 189 ms, total: 7.31 s\n",
        "Wall time: 16.9 s\n"
       ]
      }
     ],
     "prompt_number": 9
    },
    {
     "cell_type": "code",
     "collapsed": false,
     "input": [
      "%%time\n",
      "simple = ocrolib.load_object(\"simple.pyrnn.gz\")"
     ],
     "language": "python",
     "metadata": {},
     "outputs": [
      {
       "output_type": "stream",
       "stream": "stdout",
       "text": [
        "CPU times: user 2.03 s, sys: 174 ms, total: 2.21 s\n",
        "Wall time: 2.65 s\n"
       ]
      }
     ],
     "prompt_number": 10
    },
    {
     "cell_type": "code",
     "collapsed": false,
     "input": [
      "prsize(simple,off=True)/1e6"
     ],
     "language": "python",
     "metadata": {},
     "outputs": [
      {
       "metadata": {},
       "output_type": "pyout",
       "prompt_number": 11,
       "text": [
        "11.964394"
       ]
      }
     ],
     "prompt_number": 11
    },
    {
     "cell_type": "code",
     "collapsed": false,
     "input": [
      "for x in simple.walk(): x.postLoad()"
     ],
     "language": "python",
     "metadata": {},
     "outputs": [],
     "prompt_number": 12
    },
    {
     "cell_type": "code",
     "collapsed": false,
     "input": [
      "prsize(simple,off=True)/1e6"
     ],
     "language": "python",
     "metadata": {},
     "outputs": [
      {
       "metadata": {},
       "output_type": "pyout",
       "prompt_number": 13,
       "text": [
        "34.303626"
       ]
      }
     ],
     "prompt_number": 13
    },
    {
     "cell_type": "code",
     "collapsed": false,
     "input": [
      "model.lnorm.target_height"
     ],
     "language": "python",
     "metadata": {},
     "outputs": [
      {
       "metadata": {},
       "output_type": "pyout",
       "prompt_number": 15,
       "text": [
        "48"
       ]
      }
     ],
     "prompt_number": 15
    },
    {
     "cell_type": "code",
     "collapsed": false,
     "input": [
      "model.lstm.learning_rate"
     ],
     "language": "python",
     "metadata": {},
     "outputs": [
      {
       "metadata": {},
       "output_type": "pyout",
       "prompt_number": 16,
       "text": [
        "1e-05"
       ]
      }
     ],
     "prompt_number": 16
    },
    {
     "cell_type": "code",
     "collapsed": false,
     "input": [],
     "language": "python",
     "metadata": {},
     "outputs": []
    }
   ],
   "metadata": {}
  }
 ]
}
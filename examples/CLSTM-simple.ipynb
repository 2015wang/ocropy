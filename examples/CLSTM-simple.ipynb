{
 "metadata": {
  "name": "CLSTM-simple"
 },
 "nbformat": 3,
 "nbformat_minor": 0,
 "worksheets": [
  {
   "cells": [
    {
     "cell_type": "code",
     "collapsed": false,
     "input": [
      "from pylab import *\n",
      "from scipy.ndimage import morphology,measurements\n",
      "import os.path\n",
      "import glob\n",
      "import ocrolib\n",
      "import rnnscript\n",
      "import argparse\n",
      "from ocrolib.lineest import make_normalizer\n",
      "import lstm"
     ],
     "language": "python",
     "metadata": {},
     "outputs": [],
     "prompt_number": 29
    },
    {
     "cell_type": "code",
     "collapsed": false,
     "input": [
      "codec = rnnscript.ascii_codec\n",
      "print \"# codec\",codec.size()\n",
      "nlabels = codec.size()\n",
      "label_list = codec.labels()"
     ],
     "language": "python",
     "metadata": {},
     "outputs": [
      {
       "output_type": "stream",
       "stream": "stdout",
       "text": [
        "# codec 95\n"
       ]
      }
     ],
     "prompt_number": 7
    },
    {
     "cell_type": "code",
     "collapsed": false,
     "input": [
      "def read_line(base,before=2,after=3):\n",
      "    image = 1.0*ocrolib.read_image_binary(base+\".dew.png\")\n",
      "    image = image*1.0/amax(image)\n",
      "    image = 1-image\n",
      "    cseg = ocrolib.read_line_segmentation(base+\".dcs.png\")\n",
      "    assert image.shape==cseg.shape\n",
      "    gt = ocrolib.read_text(base+\".gt.txt\")\n",
      "    objects = measurements.find_objects(cseg)\n",
      "    ends = [int(b[1].stop) if b is not None else -1 for b in objects]\n",
      "    output = zeros(len(image.T),'i')\n",
      "    for i,x in enumerate(ends):\n",
      "        c = gt[i]\n",
      "        if x<0:\n",
      "            assert c==\" \"\n",
      "            continue\n",
      "        if c==\" \":\n",
      "            assert x<0\n",
      "            continue\n",
      "        c = codec.encode([c])[0]\n",
      "        output[x-before:x+after] = c\n",
      "    return image,output"
     ],
     "language": "python",
     "metadata": {},
     "outputs": [],
     "prompt_number": 4
    },
    {
     "cell_type": "code",
     "collapsed": false,
     "input": [
      "import re\n",
      "bases = sorted([re.sub(r'.dew.png$','',f) for f in glob.glob(\"book/*/*.dew.png\")])\n",
      "print bases[:4]"
     ],
     "language": "python",
     "metadata": {},
     "outputs": [
      {
       "output_type": "stream",
       "stream": "stdout",
       "text": [
        "['book/0005/010001', 'book/0011/010111', 'book/0012/010036', 'book/0012/010108']\n"
       ]
      }
     ],
     "prompt_number": 5
    },
    {
     "cell_type": "code",
     "collapsed": false,
     "input": [
      "import rnnscript; reload(rnnscript)\n",
      "\n",
      "trainer = rnnscript.Trainer()\n",
      "trainer.tdims.numDims = 1\n",
      "trainer.config.set_val(\"hiddenSize\",\"100\")\n",
      "trainer.config.set_val(\"hiddenType\",\"lstm\")\n",
      "trainer.config.set_val(\"bidirectional\",\"false\")\n",
      "trainer.config.set_val(\"inputSize\",32)\n",
      "trainer.config.set_val(\"optimiser\",\"steepest\")\n",
      "trainer.config.set_val(\"targetLabels\",label_list)\n",
      "trainer.config.set_val(\"task\",\"classification\")\n",
      "trainer.setup_net()\n",
      "trained = 0\n",
      "trainer.learnRate = 1e-4\n",
      "\n",
      "seq = rnnscript.DataSequence()\n",
      "\n",
      "def setseq(seq,xs,ys):\n",
      "    print xs.shape,ys.shape\n",
      "    rnnscript.image2seq(seq,xs)\n",
      "    seq.targetClasses.data.resize(len(ys))\n",
      "    seq.targetClasses.reshape_with_depth([len(ys)],1)\n",
      "    for i,y in enumerate(ys): seq.targetClasses.data[i] = int(y)\n",
      "        \n",
      "def sbshape(seq):\n",
      "    return [seq.shape[i] for i in range(seq.shape.size())]\n",
      "def sbstrides(seq):\n",
      "    return [seq.shape[i] for i in range(seq.shape.size())]\n",
      "def sb2array(seq,dtype='f'):\n",
      "    return array(seq.data,dtype=dtype).reshape(tuple(seq.shape))"
     ],
     "language": "python",
     "metadata": {},
     "outputs": [],
     "prompt_number": 20
    },
    {
     "cell_type": "code",
     "collapsed": false,
     "input": [
      "figsize(12,8)"
     ],
     "language": "python",
     "metadata": {},
     "outputs": [],
     "prompt_number": 21
    },
    {
     "cell_type": "code",
     "collapsed": false,
     "input": [
      "for i,base in list(enumerate(bases))[:10]:\n",
      "    print i,base\n",
      "    try:\n",
      "        image,output = read_line(base)\n",
      "    except AssertionError as e:\n",
      "        continue\n",
      "    except IOError as e:\n",
      "        continue\n",
      "    setseq(seq,image,output)\n",
      "    trainer.train1(seq)\n",
      "    outputs = sb2array(trainer.net.outputLayers[0].outputActivations)\n",
      "    s = \"\".join(codec.decode(lstm.translate_back(outputs)))\n",
      "    print \"    %.2f %.2f %.2f %s\"%(amin(outputs),amax(outputs),amax(outputs[:,1:]),s)"
     ],
     "language": "python",
     "metadata": {},
     "outputs": [
      {
       "output_type": "stream",
       "stream": "stdout",
       "text": [
        "0 book/0005/010001\n",
        "(32, 298) (298,)\n",
        "    0.01 0.02 0.01 "
       ]
      },
      {
       "output_type": "stream",
       "stream": "stdout",
       "text": [
        "\n",
        "1 book/0011/010111\n",
        "(32, 568) (568,)\n",
        "    0.01 0.02 0.01 "
       ]
      },
      {
       "output_type": "stream",
       "stream": "stdout",
       "text": [
        "\n",
        "2 book/0012/010036\n",
        "(32, 552) (552,)\n",
        "    0.01 0.03 0.01 "
       ]
      },
      {
       "output_type": "stream",
       "stream": "stdout",
       "text": [
        "\n",
        "3 book/0012/010108\n",
        "(32, 555) (555,)\n",
        "    0.01 0.04 0.01 "
       ]
      },
      {
       "output_type": "stream",
       "stream": "stdout",
       "text": [
        "\n",
        "4 book/0015/010023\n",
        "(32, 894) (894,)\n",
        "    0.01 0.06 0.01 "
       ]
      },
      {
       "output_type": "stream",
       "stream": "stdout",
       "text": [
        "\n",
        "5 book/0022/010005\n",
        "6 book/0026/010010\n",
        "(32, 1467) (1467,)\n",
        "    0.01 0.12 0.01 "
       ]
      },
      {
       "output_type": "stream",
       "stream": "stdout",
       "text": [
        "\n",
        "7 book/0028/010004\n",
        "(32, 1490) (1490,)\n",
        "    0.01 0.30 0.01 "
       ]
      },
      {
       "output_type": "stream",
       "stream": "stdout",
       "text": [
        "\n",
        "8 book/0028/010012\n",
        "(32, 935) (935,)\n",
        "    0.00 0.66 0.01 "
       ]
      },
      {
       "output_type": "stream",
       "stream": "stdout",
       "text": [
        "\n",
        "9 book/0033/010060\n",
        "(32, 863) (863,)\n",
        "    0.00 0.92 0.01 "
       ]
      },
      {
       "output_type": "stream",
       "stream": "stdout",
       "text": [
        "\n"
       ]
      }
     ],
     "prompt_number": 31
    },
    {
     "cell_type": "code",
     "collapsed": false,
     "input": [
      "from scipy.ndimage import filters\n",
      "subplot(211); imshow(image,cmap=cm.gray)\n",
      "subplot(212); imshow(filters.maximum_filter(outputs.T,(5,5)),cmap=cm.GnBu,interpolation='nearest')"
     ],
     "language": "python",
     "metadata": {},
     "outputs": [
      {
       "output_type": "pyout",
       "prompt_number": 34,
       "text": [
        "<matplotlib.image.AxesImage at 0x4c22d10>"
       ]
      },
      {
       "output_type": "display_data",
       "png": "[encoded data removed]"
      }
     ],
     "prompt_number": 34
    },
    {
     "cell_type": "code",
     "collapsed": false,
     "input": [],
     "language": "python",
     "metadata": {},
     "outputs": [],
     "prompt_number": 9
    }
   ],
   "metadata": {}
  }
 ]
}
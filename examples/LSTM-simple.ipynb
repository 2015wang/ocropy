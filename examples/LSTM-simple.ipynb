{
 "metadata": {
  "name": "LSTM-simple"
 },
 "nbformat": 3,
 "nbformat_minor": 0,
 "worksheets": [
  {
   "cells": [
    {
     "cell_type": "code",
     "collapsed": false,
     "input": [
      "from pylab import *\n",
      "from scipy.ndimage import morphology,measurements\n",
      "import os.path\n",
      "import glob\n",
      "import ocrolib\n",
      "import rnnscript\n",
      "import argparse\n",
      "from ocrolib.lineest import make_normalizer"
     ],
     "language": "python",
     "metadata": {},
     "outputs": [],
     "prompt_number": 1
    },
    {
     "cell_type": "code",
     "collapsed": false,
     "input": [
      "codec = rnnscript.ascii_codec\n",
      "print \"# codec\",codec.size()\n",
      "nlabels = codec.size()"
     ],
     "language": "python",
     "metadata": {},
     "outputs": [
      {
       "output_type": "stream",
       "stream": "stdout",
       "text": [
        "# codec 95\n"
       ]
      },
      {
       "output_type": "pyout",
       "prompt_number": 20,
       "text": [
        "[1]"
       ]
      }
     ],
     "prompt_number": 20
    },
    {
     "cell_type": "code",
     "collapsed": false,
     "input": [
      "def read_line(base,before=2,after=3):\n",
      "    image = 1.0*ocrolib.read_image_binary(base+\".dew.png\")\n",
      "    image = image*1.0/amax(image)\n",
      "    image = 1-image\n",
      "    cseg = ocrolib.read_line_segmentation(base+\".dcs.png\")\n",
      "    assert image.shape==cseg.shape\n",
      "    gt = ocrolib.read_text(base+\".gt.txt\")\n",
      "    objects = measurements.find_objects(cseg)\n",
      "    ends = [int(b[1].stop) if b is not None else -1 for b in objects]\n",
      "    output = zeros(len(image.T),'i')\n",
      "    for i,x in enumerate(ends):\n",
      "        c = gt[i]\n",
      "        if x<0:\n",
      "            assert c==\" \"\n",
      "            continue\n",
      "        if c==\" \":\n",
      "            assert x<0\n",
      "            continue\n",
      "        c = codec.encode([c])[0]\n",
      "        output[x-before:x+after] = c\n",
      "    return image,output"
     ],
     "language": "python",
     "metadata": {},
     "outputs": [],
     "prompt_number": 3
    },
    {
     "cell_type": "code",
     "collapsed": false,
     "input": [
      "import re\n",
      "bases = sorted([re.sub(r'.dew.png$','',f) for f in glob.glob(\"book/*/*.dew.png\")])\n",
      "print bases[:4]"
     ],
     "language": "python",
     "metadata": {},
     "outputs": [
      {
       "output_type": "stream",
       "stream": "stdout",
       "text": [
        "['book/0005/010001', 'book/0011/010111', 'book/0012/010036', 'book/0012/010108']\n"
       ]
      }
     ],
     "prompt_number": 4
    },
    {
     "cell_type": "code",
     "collapsed": false,
     "input": [
      "import lstm; reload(lstm)\n",
      "trainer = lstm.LSTM1(32,100,nlabels)\n",
      "trainer.setLearningRate(1e-3,0.9)"
     ],
     "language": "python",
     "metadata": {},
     "outputs": [],
     "prompt_number": 5
    },
    {
     "cell_type": "code",
     "collapsed": false,
     "input": [
      "figsize(12,8)"
     ],
     "language": "python",
     "metadata": {},
     "outputs": [],
     "prompt_number": 6
    },
    {
     "cell_type": "code",
     "collapsed": false,
     "input": [
      "for i,base in list(enumerate(bases)):\n",
      "    print i,base\n",
      "    try:\n",
      "        image,output = read_line(base)\n",
      "    except AssertionError as e:\n",
      "        continue\n",
      "    except IOError as e:\n",
      "        continue\n",
      "    targets = zeros((len(output),nlabels))\n",
      "    for i,j in enumerate(output): targets[i,j] = 1.0\n",
      "    # print image.shape,output.shape,targets.shape\n",
      "    output = trainer.train(image.T,targets)\n",
      "    s = \"\".join(codec.decode(lstm.translate_back(output)))\n",
      "    print \"    %.2f %.2f %.2f %s\"%(amin(output),amax(output),amax(output[:,1:]),s)"
     ],
     "language": "python",
     "metadata": {},
     "outputs": [
      {
       "output_type": "stream",
       "stream": "stdout",
       "text": [
        "0 book/0005/010001\n",
        "    0.34 0.67 0.67 x/!/!/!/!/!/!/!/!/!/j/!/!/!/!/"
       ]
      },
      {
       "output_type": "stream",
       "stream": "stdout",
       "text": [
        "\n",
        "1 book/0011/010111\n",
        "    0.28 0.67 0.67 !/!/!/!/!/!/!/!/!/!/!/!/!/!/!/!/!/!/!/!/!/!/!/!/!/!/!/!/!/"
       ]
      },
      {
       "output_type": "stream",
       "stream": "stdout",
       "text": [
        "\n",
        "2 book/0012/010036\n",
        "    0.11 0.76 0.76 !!<!<!<!<!<!<!<!<!<!<!<!<!<!</</</</!/!/!/!/</!/!<!<!<!<!<"
       ]
      },
      {
       "output_type": "stream",
       "stream": "stdout",
       "text": [
        "\n",
        "3 book/0012/010108\n",
        "    0.07 0.66 0.48 "
       ]
      },
      {
       "output_type": "stream",
       "stream": "stdout",
       "text": [
        "\n",
        "4 book/0015/010023\n",
        "    0.02 0.85 0.39 "
       ]
      },
      {
       "output_type": "stream",
       "stream": "stdout",
       "text": [
        "\n",
        "5 book/0022/010005\n",
        "6 book/0026/010010\n",
        "    0.01 0.95 0.32 "
       ]
      },
      {
       "output_type": "stream",
       "stream": "stdout",
       "text": [
        "\n",
        "7 book/0028/010004\n",
        "    0.00 0.95 0.28 "
       ]
      },
      {
       "output_type": "stream",
       "stream": "stdout",
       "text": [
        "\n",
        "8 book/0028/010012\n",
        "    0.00 0.90 0.24 "
       ]
      },
      {
       "output_type": "stream",
       "stream": "stdout",
       "text": [
        "\n",
        "9 book/0033/010060\n",
        "    0.00 0.72 0.21 "
       ]
      },
      {
       "output_type": "stream",
       "stream": "stdout",
       "text": [
        "\n",
        "10 book/0034/010034\n",
        "    0.00 0.61 0.18 "
       ]
      },
      {
       "output_type": "stream",
       "stream": "stdout",
       "text": [
        "\n",
        "11 book/0036/010043\n",
        "    0.00 0.84 0.16 "
       ]
      },
      {
       "output_type": "stream",
       "stream": "stdout",
       "text": [
        "\n",
        "12 book/0038/010048\n",
        "    0.00 0.94 0.14 "
       ]
      },
      {
       "output_type": "stream",
       "stream": "stdout",
       "text": [
        "\n",
        "13 book/0041/010039\n",
        "14 book/0043/010006\n",
        "15 book/0062/010033\n",
        "    0.00 0.97 0.13 "
       ]
      },
      {
       "output_type": "stream",
       "stream": "stdout",
       "text": [
        "\n",
        "16 book/0066/010016\n",
        "    0.00 0.98 0.12 "
       ]
      },
      {
       "output_type": "stream",
       "stream": "stdout",
       "text": [
        "\n",
        "17 book/0074/010022\n",
        "    0.00 0.98 0.11 "
       ]
      },
      {
       "output_type": "stream",
       "stream": "stdout",
       "text": [
        "\n",
        "18 book/0095/010007\n",
        "    0.00 0.99 0.10 "
       ]
      },
      {
       "output_type": "stream",
       "stream": "stdout",
       "text": [
        "\n",
        "19 book/0097/010042\n",
        "    0.00 0.98 0.09 "
       ]
      },
      {
       "output_type": "stream",
       "stream": "stdout",
       "text": [
        "\n",
        "20 book/0104/010009\n",
        "    0.00 0.98 0.08 "
       ]
      },
      {
       "output_type": "stream",
       "stream": "stdout",
       "text": [
        "\n",
        "21 book/0106/010002\n",
        "22 book/0121/010017\n",
        "23 book/0123/010003\n",
        "    0.00 0.96 0.08 "
       ]
      },
      {
       "output_type": "stream",
       "stream": "stdout",
       "text": [
        "\n",
        "24 book/0123/010034\n",
        "    0.00 0.90 0.07 "
       ]
      },
      {
       "output_type": "stream",
       "stream": "stdout",
       "text": [
        "\n",
        "25 book/0129/010016\n",
        "    0.00 0.71 0.07 "
       ]
      },
      {
       "output_type": "stream",
       "stream": "stdout",
       "text": [
        "\n",
        "26 book/0134/010016\n",
        "    0.00 0.62 0.07 "
       ]
      },
      {
       "output_type": "stream",
       "stream": "stdout",
       "text": [
        "\n",
        "27 book/0137/010045\n",
        "    0.00 0.94 0.06 "
       ]
      },
      {
       "output_type": "stream",
       "stream": "stdout",
       "text": [
        "\n",
        "28 book/0140/010095\n",
        "    0.00 0.99 0.06 "
       ]
      },
      {
       "output_type": "stream",
       "stream": "stdout",
       "text": [
        "\n",
        "29 book/0142/010031\n",
        "    0.00 0.99 0.06 "
       ]
      },
      {
       "output_type": "stream",
       "stream": "stdout",
       "text": [
        "\n",
        "30 book/0157/010037\n",
        "    0.00 1.00 0.06 "
       ]
      },
      {
       "output_type": "stream",
       "stream": "stdout",
       "text": [
        "\n",
        "31 book/0158/010007\n",
        "    0.00 1.00 0.06 "
       ]
      },
      {
       "output_type": "stream",
       "stream": "stdout",
       "text": [
        "\n",
        "32 book/0159/010007\n",
        "33 book/0160/010036\n",
        "    0.00 1.00 0.05 "
       ]
      },
      {
       "output_type": "stream",
       "stream": "stdout",
       "text": [
        "\n",
        "34 book/0172/010038\n",
        "    0.00 1.00 0.05 "
       ]
      },
      {
       "output_type": "stream",
       "stream": "stdout",
       "text": [
        "\n",
        "35 book/0172/010072\n",
        "    0.00 1.00 0.05 "
       ]
      },
      {
       "output_type": "stream",
       "stream": "stdout",
       "text": [
        "\n",
        "36 book/0173/010009\n",
        "37 book/0173/010015\n",
        "    0.00 1.00 0.05 "
       ]
      },
      {
       "output_type": "stream",
       "stream": "stdout",
       "text": [
        "\n",
        "38 book/0174/010060\n",
        "    0.00 1.00 0.05 "
       ]
      },
      {
       "output_type": "stream",
       "stream": "stdout",
       "text": [
        "\n",
        "39 book/0175/010047\n",
        "    0.00 1.00 0.05 "
       ]
      },
      {
       "output_type": "stream",
       "stream": "stdout",
       "text": [
        "\n",
        "40 book/0176/010077\n",
        "    0.00 1.00 0.05 "
       ]
      },
      {
       "output_type": "stream",
       "stream": "stdout",
       "text": [
        "\n",
        "41 book/0183/010006\n",
        "42 book/0184/010002\n",
        "    0.00 1.00 0.05 "
       ]
      },
      {
       "output_type": "stream",
       "stream": "stdout",
       "text": [
        "\n",
        "43 book/0185/010089\n",
        "    0.00 1.00 0.05 "
       ]
      },
      {
       "output_type": "stream",
       "stream": "stdout",
       "text": [
        "\n",
        "44 book/0186/010028\n",
        "    0.00 1.00 0.05 "
       ]
      },
      {
       "output_type": "stream",
       "stream": "stdout",
       "text": [
        "\n",
        "45 book/0187/010046\n",
        "    0.00 1.00 0.05 "
       ]
      },
      {
       "output_type": "stream",
       "stream": "stdout",
       "text": [
        "\n",
        "46 book/0188/010059\n",
        "    0.00 1.00 0.05 "
       ]
      },
      {
       "output_type": "stream",
       "stream": "stdout",
       "text": [
        "\n",
        "47 book/0189/010096\n",
        "    0.00 1.00 0.05 "
       ]
      },
      {
       "output_type": "stream",
       "stream": "stdout",
       "text": [
        "\n",
        "48 book/0191/010040\n",
        "    0.00 1.00 0.05 "
       ]
      },
      {
       "output_type": "stream",
       "stream": "stdout",
       "text": [
        "\n",
        "49 book/0192/010012\n",
        "    0.00 1.00 0.05 "
       ]
      },
      {
       "output_type": "stream",
       "stream": "stdout",
       "text": [
        "\n",
        "50 book/0194/010024\n",
        "    0.00 1.00 0.05 "
       ]
      },
      {
       "output_type": "stream",
       "stream": "stdout",
       "text": [
        "\n",
        "51 book/0195/010019\n",
        "    0.00 1.00 0.05 "
       ]
      },
      {
       "output_type": "stream",
       "stream": "stdout",
       "text": [
        "\n",
        "52 book/0200/010007\n",
        "    0.00 1.00 0.04 "
       ]
      },
      {
       "output_type": "stream",
       "stream": "stdout",
       "text": [
        "\n",
        "53 book/0207/010017\n",
        "    0.00 1.00 0.04 "
       ]
      },
      {
       "output_type": "stream",
       "stream": "stdout",
       "text": [
        "\n",
        "54 book/0211/010012\n",
        "    0.00 1.00 0.04 "
       ]
      },
      {
       "output_type": "stream",
       "stream": "stdout",
       "text": [
        "\n",
        "55 book/0214/010002\n",
        "    0.00 1.00 0.04 "
       ]
      },
      {
       "output_type": "stream",
       "stream": "stdout",
       "text": [
        "\n",
        "56 book/0222/010007\n",
        "    0.00 1.00 0.04 "
       ]
      },
      {
       "output_type": "stream",
       "stream": "stdout",
       "text": [
        "\n",
        "57 book/0222/010017\n",
        "    0.00 1.00 0.04 "
       ]
      },
      {
       "output_type": "stream",
       "stream": "stdout",
       "text": [
        "\n",
        "58 book/0225/010074\n",
        "    0.00 1.00 0.04 "
       ]
      },
      {
       "output_type": "stream",
       "stream": "stdout",
       "text": [
        "\n",
        "59 book/0240/010002\n",
        "60 book/0240/010027\n",
        "    0.00 1.00 0.04 "
       ]
      },
      {
       "output_type": "stream",
       "stream": "stdout",
       "text": [
        "\n",
        "61 book/0241/010015\n",
        "    0.00 1.00 0.04 "
       ]
      },
      {
       "output_type": "stream",
       "stream": "stdout",
       "text": [
        "\n",
        "62 book/0255/010031\n",
        "    0.00 1.00 0.04 "
       ]
      },
      {
       "output_type": "stream",
       "stream": "stdout",
       "text": [
        "\n",
        "63 book/0257/010001\n",
        "64 book/0272/010008\n",
        "    0.00 1.00 0.04 "
       ]
      },
      {
       "output_type": "stream",
       "stream": "stdout",
       "text": [
        "\n",
        "65 book/0272/010025\n",
        "    0.00 1.00 0.04 "
       ]
      },
      {
       "output_type": "stream",
       "stream": "stdout",
       "text": [
        "\n",
        "66 book/0280/010022\n",
        "    0.00 1.00 0.04 "
       ]
      },
      {
       "output_type": "stream",
       "stream": "stdout",
       "text": [
        "\n",
        "67 book/0291/010070\n",
        "    0.00 1.00 0.04 "
       ]
      },
      {
       "output_type": "stream",
       "stream": "stdout",
       "text": [
        "\n",
        "68 book/0293/010123\n",
        "    0.00 1.00 0.04 "
       ]
      },
      {
       "output_type": "stream",
       "stream": "stdout",
       "text": [
        "\n",
        "69 book/0306/010003\n",
        "    0.00 1.00 0.04 "
       ]
      },
      {
       "output_type": "stream",
       "stream": "stdout",
       "text": [
        "\n",
        "70 book/0313/010021\n",
        "    0.00 1.00 0.04 "
       ]
      },
      {
       "output_type": "stream",
       "stream": "stdout",
       "text": [
        "\n",
        "71 book/0315/010029\n",
        "    0.00 1.00 0.04 "
       ]
      },
      {
       "output_type": "stream",
       "stream": "stdout",
       "text": [
        "\n",
        "72 book/0315/010034\n",
        "    0.00 1.00 0.04 "
       ]
      },
      {
       "output_type": "stream",
       "stream": "stdout",
       "text": [
        "\n",
        "73 book/0316/010063\n",
        "    0.00 1.00 0.04 "
       ]
      },
      {
       "output_type": "stream",
       "stream": "stdout",
       "text": [
        "\n",
        "74 book/0317/010042\n",
        "    0.00 1.00 0.04 "
       ]
      },
      {
       "output_type": "stream",
       "stream": "stdout",
       "text": [
        "\n",
        "75 book/0317/010093\n",
        "    0.00 1.00 0.04 "
       ]
      },
      {
       "output_type": "stream",
       "stream": "stdout",
       "text": [
        "\n",
        "76 book/0317/010133\n",
        "    0.00 1.00 0.04 "
       ]
      },
      {
       "output_type": "stream",
       "stream": "stdout",
       "text": [
        "\n",
        "77 book/0318/010085\n",
        "    0.00 1.00 0.04 "
       ]
      },
      {
       "output_type": "stream",
       "stream": "stdout",
       "text": [
        "\n",
        "78 book/0326/010061\n",
        "    0.00 1.00 0.04 "
       ]
      },
      {
       "output_type": "stream",
       "stream": "stdout",
       "text": [
        "\n",
        "79 book/0328/010050\n",
        "    0.00 1.00 0.04 "
       ]
      },
      {
       "output_type": "stream",
       "stream": "stdout",
       "text": [
        "\n",
        "80 book/0331/010014\n",
        "    0.00 1.00 0.04 "
       ]
      },
      {
       "output_type": "stream",
       "stream": "stdout",
       "text": [
        "\n",
        "81 book/0349/010036\n",
        "    0.00 1.00 0.04 "
       ]
      },
      {
       "output_type": "stream",
       "stream": "stdout",
       "text": [
        "\n",
        "82 book/0350/010054\n",
        "    0.00 1.00 0.04 "
       ]
      },
      {
       "output_type": "stream",
       "stream": "stdout",
       "text": [
        "\n",
        "83 book/0355/010001\n",
        "    0.00 1.00 0.04 "
       ]
      },
      {
       "output_type": "stream",
       "stream": "stdout",
       "text": [
        "\n",
        "84 book/0360/010027\n",
        "    0.00 1.00 0.04 "
       ]
      },
      {
       "output_type": "stream",
       "stream": "stdout",
       "text": [
        "\n",
        "85 book/0370/010099\n",
        "    0.00 1.00 0.04 "
       ]
      },
      {
       "output_type": "stream",
       "stream": "stdout",
       "text": [
        "\n",
        "86 book/0373/010001\n",
        "    0.00 1.00 0.04 "
       ]
      },
      {
       "output_type": "stream",
       "stream": "stdout",
       "text": [
        "\n",
        "87 book/0373/010036\n",
        "    0.00 1.00 0.04 "
       ]
      },
      {
       "output_type": "stream",
       "stream": "stdout",
       "text": [
        "\n",
        "88 book/0373/010046\n",
        "    0.00 1.00 0.04 "
       ]
      },
      {
       "output_type": "stream",
       "stream": "stdout",
       "text": [
        "\n",
        "89 book/0376/010048\n",
        "    0.00 1.00 0.04 "
       ]
      },
      {
       "output_type": "stream",
       "stream": "stdout",
       "text": [
        "\n",
        "90 book/0376/010085\n",
        "    0.00 1.00 0.04 "
       ]
      },
      {
       "output_type": "stream",
       "stream": "stdout",
       "text": [
        "\n",
        "91 book/0377/010039\n",
        "    0.00 1.00 0.04 "
       ]
      },
      {
       "output_type": "stream",
       "stream": "stdout",
       "text": [
        "\n",
        "92 book/0377/010044\n",
        "    0.00 1.00 0.04 "
       ]
      },
      {
       "output_type": "stream",
       "stream": "stdout",
       "text": [
        "\n",
        "93 book/0377/010047\n",
        "    0.00 1.00 0.04 "
       ]
      },
      {
       "output_type": "stream",
       "stream": "stdout",
       "text": [
        "\n",
        "94 book/0380/010074\n",
        "95 book/0383/010001\n",
        "    0.00 1.00 0.04 "
       ]
      },
      {
       "output_type": "stream",
       "stream": "stdout",
       "text": [
        "\n",
        "96 book/0385/010009\n",
        "    0.00 1.00 0.04 "
       ]
      },
      {
       "output_type": "stream",
       "stream": "stdout",
       "text": [
        "\n",
        "97 book/0394/010060\n",
        "    0.00 1.00 0.04 "
       ]
      },
      {
       "output_type": "stream",
       "stream": "stdout",
       "text": [
        "\n",
        "98 book/0395/010001\n",
        "99 book/0395/010063\n",
        "    0.00 1.00 0.04 "
       ]
      },
      {
       "output_type": "stream",
       "stream": "stdout",
       "text": [
        "\n",
        "100 book/0395/010064\n",
        "    0.00 1.00 0.04 "
       ]
      },
      {
       "output_type": "stream",
       "stream": "stdout",
       "text": [
        "\n",
        "101 book/0395/010088\n",
        "    0.00 1.00 0.04 "
       ]
      },
      {
       "output_type": "stream",
       "stream": "stdout",
       "text": [
        "\n",
        "102 book/0407/010046\n",
        "    0.00 1.00 0.04 "
       ]
      },
      {
       "output_type": "stream",
       "stream": "stdout",
       "text": [
        "\n",
        "103 book/0408/010003\n",
        "    0.00 1.00 0.04 "
       ]
      },
      {
       "output_type": "stream",
       "stream": "stdout",
       "text": [
        "\n",
        "104 book/0408/010047\n",
        "    0.00 1.00 0.04 "
       ]
      },
      {
       "output_type": "stream",
       "stream": "stdout",
       "text": [
        "\n",
        "105 book/0408/010049\n",
        "    0.00 1.00 0.04 "
       ]
      },
      {
       "output_type": "stream",
       "stream": "stdout",
       "text": [
        "\n",
        "106 book/0410/010043\n",
        "    0.00 1.00 0.04 "
       ]
      },
      {
       "output_type": "stream",
       "stream": "stdout",
       "text": [
        "\n",
        "107 book/0412/010052\n",
        "    0.00 1.00 0.04 "
       ]
      },
      {
       "output_type": "stream",
       "stream": "stdout",
       "text": [
        "\n",
        "108 book/0413/010009\n",
        "    0.00 1.00 0.04 "
       ]
      },
      {
       "output_type": "stream",
       "stream": "stdout",
       "text": [
        "\n",
        "109 book/0413/010076\n",
        "    0.00 1.00 0.04 "
       ]
      },
      {
       "output_type": "stream",
       "stream": "stdout",
       "text": [
        "\n",
        "110 book/0414/010068\n",
        "    0.00 1.00 0.04 "
       ]
      },
      {
       "output_type": "stream",
       "stream": "stdout",
       "text": [
        "\n",
        "111 book/0415/010033\n",
        "    0.00 1.00 0.04 "
       ]
      },
      {
       "output_type": "stream",
       "stream": "stdout",
       "text": [
        "\n",
        "112 book/0415/010035\n",
        "    0.00 1.00 0.04 "
       ]
      },
      {
       "output_type": "stream",
       "stream": "stdout",
       "text": [
        "\n",
        "113 book/0415/010057\n",
        "    0.00 1.00 0.04 "
       ]
      },
      {
       "output_type": "stream",
       "stream": "stdout",
       "text": [
        "\n",
        "114 book/0416/010055\n",
        "    0.00 1.00 0.04 "
       ]
      },
      {
       "output_type": "stream",
       "stream": "stdout",
       "text": [
        "\n",
        "115 book/0417/010033\n",
        "    0.00 1.00 0.04 "
       ]
      },
      {
       "output_type": "stream",
       "stream": "stdout",
       "text": [
        "\n",
        "116 book/0417/010056\n",
        "    0.00 1.00 0.04 "
       ]
      },
      {
       "output_type": "stream",
       "stream": "stdout",
       "text": [
        "\n",
        "117 book/0422/010017\n",
        "118 book/0456/010058\n",
        "    0.00 1.00 0.04 "
       ]
      },
      {
       "output_type": "stream",
       "stream": "stdout",
       "text": [
        "\n",
        "119 book/0460/010004\n",
        "    0.00 1.00 0.04 "
       ]
      },
      {
       "output_type": "stream",
       "stream": "stdout",
       "text": [
        "\n",
        "120 book/0461/010074\n",
        "    0.00 1.00 0.04 "
       ]
      },
      {
       "output_type": "stream",
       "stream": "stdout",
       "text": [
        "\n",
        "121 book/0468/010060\n",
        "122 book/0476/010023\n",
        "    0.00 1.00 0.04 "
       ]
      },
      {
       "output_type": "stream",
       "stream": "stdout",
       "text": [
        "\n",
        "123 book/0479/010101\n",
        "    0.00 1.00 0.04 "
       ]
      },
      {
       "output_type": "stream",
       "stream": "stdout",
       "text": [
        "\n",
        "124 book/0488/010006\n",
        "    0.00 1.00 0.04 "
       ]
      },
      {
       "output_type": "stream",
       "stream": "stdout",
       "text": [
        "\n",
        "125 book/0489/010028\n",
        "    0.00 1.00 0.04 "
       ]
      },
      {
       "output_type": "stream",
       "stream": "stdout",
       "text": [
        "\n",
        "126 book/0496/010012\n",
        "    0.00 1.00 0.04 "
       ]
      },
      {
       "output_type": "stream",
       "stream": "stdout",
       "text": [
        "\n",
        "127 book/0498/010019\n",
        "128 book/0508/010056\n",
        "    0.00 1.00 0.04 "
       ]
      },
      {
       "output_type": "stream",
       "stream": "stdout",
       "text": [
        "\n",
        "129 book/0513/010064\n",
        "    0.00 1.00 0.04 "
       ]
      },
      {
       "output_type": "stream",
       "stream": "stdout",
       "text": [
        "\n",
        "130 book/0517/010039\n",
        "    0.00 1.00 0.04 "
       ]
      },
      {
       "output_type": "stream",
       "stream": "stdout",
       "text": [
        "\n",
        "131 book/0518/010044\n",
        "    0.00 1.00 0.04 "
       ]
      },
      {
       "output_type": "stream",
       "stream": "stdout",
       "text": [
        "\n",
        "132 book/0523/010068\n",
        "    0.00 1.00 0.04 "
       ]
      },
      {
       "output_type": "stream",
       "stream": "stdout",
       "text": [
        "\n",
        "133 book/0525/010030\n",
        "    0.00 1.00 0.04 "
       ]
      },
      {
       "output_type": "stream",
       "stream": "stdout",
       "text": [
        "\n",
        "134 book/0526/010045\n",
        "    0.00 1.00 0.04 "
       ]
      },
      {
       "output_type": "stream",
       "stream": "stdout",
       "text": [
        "\n",
        "135 book/0528/010015\n",
        "    0.00 1.00 0.04 "
       ]
      },
      {
       "output_type": "stream",
       "stream": "stdout",
       "text": [
        "\n",
        "136 book/0539/010061\n",
        "    0.00 1.00 0.04 "
       ]
      },
      {
       "output_type": "stream",
       "stream": "stdout",
       "text": [
        "\n",
        "137 book/0539/010091\n",
        "    0.00 1.00 0.04 "
       ]
      },
      {
       "output_type": "stream",
       "stream": "stdout",
       "text": [
        "\n",
        "138 book/0540/010011\n",
        "139 book/0565/010001\n",
        "140 book/0570/010008\n",
        "    0.00 1.00 0.04 "
       ]
      },
      {
       "output_type": "stream",
       "stream": "stdout",
       "text": [
        "\n",
        "141 book/0575/010019\n",
        "    0.00 1.00 0.04 "
       ]
      },
      {
       "output_type": "stream",
       "stream": "stdout",
       "text": [
        "\n",
        "142 book/0587/010001\n",
        "    0.00 1.00 0.04 "
       ]
      },
      {
       "output_type": "stream",
       "stream": "stdout",
       "text": [
        "\n",
        "143 book/0587/010023\n",
        "144 book/0590/010033\n",
        "145 book/0591/010099\n",
        "    0.00 1.00 0.04 "
       ]
      },
      {
       "output_type": "stream",
       "stream": "stdout",
       "text": [
        "\n",
        "146 book/0593/010078\n",
        "    0.00 1.00 0.04 "
       ]
      },
      {
       "output_type": "stream",
       "stream": "stdout",
       "text": [
        "\n",
        "147 book/0596/010002\n",
        "    0.00 1.00 0.04 "
       ]
      },
      {
       "output_type": "stream",
       "stream": "stdout",
       "text": [
        "\n",
        "148 book/0599/010020\n",
        "    0.00 1.00 0.04 "
       ]
      },
      {
       "output_type": "stream",
       "stream": "stdout",
       "text": [
        "\n",
        "149 book/0601/010068\n",
        "    0.00 1.00 0.04 "
       ]
      },
      {
       "output_type": "stream",
       "stream": "stdout",
       "text": [
        "\n",
        "150 book/0603/010018\n",
        "    0.00 1.00 0.04 "
       ]
      },
      {
       "output_type": "stream",
       "stream": "stdout",
       "text": [
        "\n",
        "151 book/0603/010031\n",
        "    0.00 1.00 0.04 "
       ]
      },
      {
       "output_type": "stream",
       "stream": "stdout",
       "text": [
        "\n",
        "152 book/0603/010051\n",
        "    0.00 1.00 0.04 "
       ]
      },
      {
       "output_type": "stream",
       "stream": "stdout",
       "text": [
        "\n",
        "153 book/0604/010010\n",
        "    0.00 1.00 0.04 "
       ]
      },
      {
       "output_type": "stream",
       "stream": "stdout",
       "text": [
        "\n",
        "154 book/0605/010026\n",
        "    0.00 1.00 0.04 "
       ]
      },
      {
       "output_type": "stream",
       "stream": "stdout",
       "text": [
        "\n",
        "155 book/0607/010008\n",
        "    0.00 1.00 0.04 "
       ]
      },
      {
       "output_type": "stream",
       "stream": "stdout",
       "text": [
        "\n",
        "156 book/0623/010038\n",
        "    0.00 1.00 0.04 "
       ]
      },
      {
       "output_type": "stream",
       "stream": "stdout",
       "text": [
        "\n",
        "157 book/0625/010007\n",
        "    0.00 1.00 0.04 "
       ]
      },
      {
       "output_type": "stream",
       "stream": "stdout",
       "text": [
        "\n",
        "158 book/0626/010062\n",
        "    0.00 1.00 0.04 "
       ]
      },
      {
       "output_type": "stream",
       "stream": "stdout",
       "text": [
        "\n",
        "159 book/0628/010013\n",
        "    0.00 1.00 0.04 "
       ]
      },
      {
       "output_type": "stream",
       "stream": "stdout",
       "text": [
        "\n",
        "160 book/0629/010020\n",
        "    0.00 1.00 0.04 "
       ]
      },
      {
       "output_type": "stream",
       "stream": "stdout",
       "text": [
        "\n",
        "161 book/0630/010019\n",
        "    0.00 1.00 0.04 "
       ]
      },
      {
       "output_type": "stream",
       "stream": "stdout",
       "text": [
        "\n",
        "162 book/0633/010014\n",
        "    0.00 1.00 0.04 "
       ]
      },
      {
       "output_type": "stream",
       "stream": "stdout",
       "text": [
        "\n",
        "163 book/0634/010085\n",
        "    0.00 1.00 0.04 "
       ]
      },
      {
       "output_type": "stream",
       "stream": "stdout",
       "text": [
        "\n",
        "164 book/0635/010021\n",
        "165 book/0638/010025\n",
        "    0.00 1.00 0.04 "
       ]
      },
      {
       "output_type": "stream",
       "stream": "stdout",
       "text": [
        "\n",
        "166 book/0639/010060\n",
        "    0.00 1.00 0.04 "
       ]
      },
      {
       "output_type": "stream",
       "stream": "stdout",
       "text": [
        "\n",
        "167 book/0640/010018\n",
        "    0.00 1.00 0.04 "
       ]
      },
      {
       "output_type": "stream",
       "stream": "stdout",
       "text": [
        "\n",
        "168 book/0643/010024\n",
        "    0.00 1.00 0.04 "
       ]
      },
      {
       "output_type": "stream",
       "stream": "stdout",
       "text": [
        "\n",
        "169 book/0648/010028\n",
        "    0.00 1.00 0.04 "
       ]
      },
      {
       "output_type": "stream",
       "stream": "stdout",
       "text": [
        "\n",
        "170 book/0651/010054\n",
        "    0.00 1.00 0.04 "
       ]
      },
      {
       "output_type": "stream",
       "stream": "stdout",
       "text": [
        "\n",
        "171 book/0651/010072\n",
        "    0.00 1.00 0.04 "
       ]
      },
      {
       "output_type": "stream",
       "stream": "stdout",
       "text": [
        "\n",
        "172 book/0653/010086\n",
        "    0.00 1.00 0.04 "
       ]
      },
      {
       "output_type": "stream",
       "stream": "stdout",
       "text": [
        "\n",
        "173 book/0654/010043\n",
        "    0.00 1.00 0.04 "
       ]
      },
      {
       "output_type": "stream",
       "stream": "stdout",
       "text": [
        "\n",
        "174 book/0658/010002\n",
        "175 book/0659/010017\n",
        "    0.00 1.00 0.04 "
       ]
      },
      {
       "output_type": "stream",
       "stream": "stdout",
       "text": [
        "\n",
        "176 book/0661/010061\n",
        "    0.00 1.00 0.04 "
       ]
      },
      {
       "output_type": "stream",
       "stream": "stdout",
       "text": [
        "\n",
        "177 book/0664/010033\n",
        "    0.00 1.00 0.04 "
       ]
      },
      {
       "output_type": "stream",
       "stream": "stdout",
       "text": [
        "\n",
        "178 book/0664/010049\n",
        "    0.00 1.00 0.04 "
       ]
      },
      {
       "output_type": "stream",
       "stream": "stdout",
       "text": [
        "\n",
        "179 book/0677/010015\n",
        "    0.00 1.00 0.04 "
       ]
      },
      {
       "output_type": "stream",
       "stream": "stdout",
       "text": [
        "\n",
        "180 book/0691/010073\n",
        "181 book/0700/010021\n",
        "    0.00 1.00 0.04 "
       ]
      },
      {
       "output_type": "stream",
       "stream": "stdout",
       "text": [
        "\n",
        "182 book/0701/010023\n",
        "    0.00 1.00 0.04 "
       ]
      },
      {
       "output_type": "stream",
       "stream": "stdout",
       "text": [
        "\n",
        "183 book/0705/010045\n",
        "    0.00 1.00 0.04 "
       ]
      },
      {
       "output_type": "stream",
       "stream": "stdout",
       "text": [
        "\n",
        "184 book/0705/010051\n",
        "    0.00 1.00 0.04 "
       ]
      },
      {
       "output_type": "stream",
       "stream": "stdout",
       "text": [
        "\n",
        "185 book/0706/010004\n",
        "    0.00 1.00 0.04 "
       ]
      },
      {
       "output_type": "stream",
       "stream": "stdout",
       "text": [
        "\n",
        "186 book/0709/010002\n",
        "    0.00 1.00 0.04 "
       ]
      },
      {
       "output_type": "stream",
       "stream": "stdout",
       "text": [
        "\n",
        "187 book/0712/010013\n",
        "    0.00 1.00 0.04 "
       ]
      },
      {
       "output_type": "stream",
       "stream": "stdout",
       "text": [
        "\n",
        "188 book/0735/010002\n",
        "    0.00 1.00 0.04 "
       ]
      },
      {
       "output_type": "stream",
       "stream": "stdout",
       "text": [
        "\n",
        "189 book/0749/010030\n",
        "    0.00 1.00 0.04 "
       ]
      },
      {
       "output_type": "stream",
       "stream": "stdout",
       "text": [
        "\n",
        "190 book/0755/010030\n",
        "    0.00 1.00 0.04 "
       ]
      },
      {
       "output_type": "stream",
       "stream": "stdout",
       "text": [
        "\n",
        "191 book/0768/010009\n",
        "    0.00 1.00 0.04 "
       ]
      },
      {
       "output_type": "stream",
       "stream": "stdout",
       "text": [
        "\n",
        "192 book/0785/010022\n",
        "    0.00 1.00 0.04 "
       ]
      },
      {
       "output_type": "stream",
       "stream": "stdout",
       "text": [
        "\n",
        "193 book/0787/010001\n",
        "194 book/0795/010011\n",
        "    0.00 1.00 0.04 "
       ]
      },
      {
       "output_type": "stream",
       "stream": "stdout",
       "text": [
        "\n",
        "195 book/0796/010041\n",
        "    0.00 1.00 0.04 "
       ]
      },
      {
       "output_type": "stream",
       "stream": "stdout",
       "text": [
        "\n",
        "196 book/0796/010043\n",
        "    0.00 1.00 0.04 "
       ]
      },
      {
       "output_type": "stream",
       "stream": "stdout",
       "text": [
        "\n",
        "197 book/0798/010045\n",
        "198 book/0808/010031\n",
        "199 book/0809/010039\n",
        "    0.00 1.00 0.04 "
       ]
      },
      {
       "output_type": "stream",
       "stream": "stdout",
       "text": [
        "\n",
        "200 book/0812/010008\n",
        "    0.00 1.00 0.04 "
       ]
      },
      {
       "output_type": "stream",
       "stream": "stdout",
       "text": [
        "\n",
        "201 book/0814/010004\n",
        "    0.00 1.00 0.04 "
       ]
      },
      {
       "output_type": "stream",
       "stream": "stdout",
       "text": [
        "\n",
        "202 book/0823/010034\n",
        "    0.00 1.00 0.04 "
       ]
      },
      {
       "output_type": "stream",
       "stream": "stdout",
       "text": [
        "\n",
        "203 book/0830/010130\n",
        "    0.00 1.00 0.04 "
       ]
      },
      {
       "output_type": "stream",
       "stream": "stdout",
       "text": [
        "\n",
        "204 book/0833/010089\n",
        "    0.00 1.00 0.04 "
       ]
      },
      {
       "output_type": "stream",
       "stream": "stdout",
       "text": [
        "\n",
        "205 book/0834/010023\n",
        "    0.00 1.00 0.04 "
       ]
      },
      {
       "output_type": "stream",
       "stream": "stdout",
       "text": [
        "\n",
        "206 book/0834/010025\n",
        "    0.00 1.00 0.04 "
       ]
      },
      {
       "output_type": "stream",
       "stream": "stdout",
       "text": [
        "\n",
        "207 book/0835/010039\n",
        "    0.00 1.00 0.04 "
       ]
      },
      {
       "output_type": "stream",
       "stream": "stdout",
       "text": [
        "\n",
        "208 book/0852/010006\n",
        "    0.00 1.00 0.04 "
       ]
      },
      {
       "output_type": "stream",
       "stream": "stdout",
       "text": [
        "\n",
        "209 book/0853/010092\n",
        "    0.00 1.00 0.04 "
       ]
      },
      {
       "output_type": "stream",
       "stream": "stdout",
       "text": [
        "\n",
        "210 book/0854/010034\n",
        "    0.00 1.00 0.04 "
       ]
      },
      {
       "output_type": "stream",
       "stream": "stdout",
       "text": [
        "\n",
        "211 book/0855/010082\n",
        "    0.00 1.00 0.04 "
       ]
      },
      {
       "output_type": "stream",
       "stream": "stdout",
       "text": [
        "\n",
        "212 book/0857/010001\n",
        "    0.00 1.00 0.04 "
       ]
      },
      {
       "output_type": "stream",
       "stream": "stdout",
       "text": [
        "\n",
        "213 book/0857/010109\n",
        "    0.00 1.00 0.04 "
       ]
      },
      {
       "output_type": "stream",
       "stream": "stdout",
       "text": [
        "\n",
        "214 book/0859/010037\n",
        "    0.00 1.00 0.04 "
       ]
      },
      {
       "output_type": "stream",
       "stream": "stdout",
       "text": [
        "\n",
        "215 book/0864/010038\n",
        "    0.00 1.00 0.04 "
       ]
      },
      {
       "output_type": "stream",
       "stream": "stdout",
       "text": [
        "\n",
        "216 book/0865/010022\n",
        "    0.00 1.00 0.04 "
       ]
      },
      {
       "output_type": "stream",
       "stream": "stdout",
       "text": [
        "\n",
        "217 book/0865/010042\n",
        "    0.00 1.00 0.04 "
       ]
      },
      {
       "output_type": "stream",
       "stream": "stdout",
       "text": [
        "\n",
        "218 book/0865/010091\n",
        "    0.00 1.00 0.04 "
       ]
      },
      {
       "output_type": "stream",
       "stream": "stdout",
       "text": [
        "\n",
        "219 book/0868/010028\n",
        "    0.00 1.00 0.04 "
       ]
      },
      {
       "output_type": "stream",
       "stream": "stdout",
       "text": [
        "\n",
        "220 book/0868/010037\n",
        "    0.00 1.00 0.04 "
       ]
      },
      {
       "output_type": "stream",
       "stream": "stdout",
       "text": [
        "\n",
        "221 book/0873/010074\n",
        "    0.00 1.00 0.04 "
       ]
      },
      {
       "output_type": "stream",
       "stream": "stdout",
       "text": [
        "\n",
        "222 book/0877/010004\n",
        "    0.00 1.00 0.04 "
       ]
      },
      {
       "output_type": "stream",
       "stream": "stdout",
       "text": [
        "\n",
        "223 book/0878/010086\n",
        "    0.00 1.00 0.04 "
       ]
      },
      {
       "output_type": "stream",
       "stream": "stdout",
       "text": [
        "\n",
        "224 book/0885/010006\n",
        "    0.00 1.00 0.04 "
       ]
      },
      {
       "output_type": "stream",
       "stream": "stdout",
       "text": [
        "\n",
        "225 book/0892/010031\n",
        "226 book/0893/010116\n",
        "    0.00 1.00 0.04 "
       ]
      },
      {
       "output_type": "stream",
       "stream": "stdout",
       "text": [
        "\n",
        "227 book/0895/010030\n",
        "    0.00 1.00 0.04 "
       ]
      },
      {
       "output_type": "stream",
       "stream": "stdout",
       "text": [
        "\n",
        "228 book/0896/010059\n",
        "    0.00 1.00 0.04 "
       ]
      },
      {
       "output_type": "stream",
       "stream": "stdout",
       "text": [
        "\n",
        "229 book/0911/010008\n",
        "    0.00 1.00 0.04 "
       ]
      },
      {
       "output_type": "stream",
       "stream": "stdout",
       "text": [
        "\n",
        "230 book/0913/010019\n",
        "    0.00 1.00 0.04 "
       ]
      },
      {
       "output_type": "stream",
       "stream": "stdout",
       "text": [
        "\n",
        "231 book/0913/010034\n",
        "    0.00 1.00 0.04 "
       ]
      },
      {
       "output_type": "stream",
       "stream": "stdout",
       "text": [
        "\n",
        "232 book/0917/010054\n",
        "    0.00 1.00 0.04 "
       ]
      },
      {
       "output_type": "stream",
       "stream": "stdout",
       "text": [
        "\n",
        "233 book/0924/010019\n",
        "    0.00 1.00 0.04 "
       ]
      },
      {
       "output_type": "stream",
       "stream": "stdout",
       "text": [
        "\n",
        "234 book/0931/010007\n",
        "    0.00 1.00 0.04 "
       ]
      },
      {
       "output_type": "stream",
       "stream": "stdout",
       "text": [
        "\n",
        "235 book/0931/010023\n",
        "    0.00 1.00 0.04 "
       ]
      },
      {
       "output_type": "stream",
       "stream": "stdout",
       "text": [
        "\n",
        "236 book/0934/010081\n",
        "    0.00 1.00 0.04 "
       ]
      },
      {
       "output_type": "stream",
       "stream": "stdout",
       "text": [
        "\n",
        "237 book/0934/010084\n",
        "    0.00 1.00 0.04 "
       ]
      },
      {
       "output_type": "stream",
       "stream": "stdout",
       "text": [
        "\n",
        "238 book/0937/010001\n",
        "    0.00 1.00 0.04 "
       ]
      },
      {
       "output_type": "stream",
       "stream": "stdout",
       "text": [
        "\n",
        "239 book/0939/010086\n",
        "    0.00 1.00 0.04 "
       ]
      },
      {
       "output_type": "stream",
       "stream": "stdout",
       "text": [
        "\n",
        "240 book/0941/010039\n",
        "    0.00 1.00 0.04 "
       ]
      },
      {
       "output_type": "stream",
       "stream": "stdout",
       "text": [
        "\n",
        "241 book/0945/010008\n",
        "    0.00 1.00 0.04 "
       ]
      },
      {
       "output_type": "stream",
       "stream": "stdout",
       "text": [
        "\n",
        "242 book/0948/010014\n",
        "    0.00 1.00 0.04 "
       ]
      },
      {
       "output_type": "stream",
       "stream": "stdout",
       "text": [
        "\n",
        "243 book/0953/010015\n",
        "    0.00 1.00 0.04 "
       ]
      },
      {
       "output_type": "stream",
       "stream": "stdout",
       "text": [
        "\n",
        "244 book/0955/010055\n",
        "    0.00 1.00 0.04 "
       ]
      },
      {
       "output_type": "stream",
       "stream": "stdout",
       "text": [
        "\n",
        "245 book/0956/010023\n",
        "    0.00 1.00 0.04 "
       ]
      },
      {
       "output_type": "stream",
       "stream": "stdout",
       "text": [
        "\n",
        "246 book/0961/010054\n",
        "    0.00 1.00 0.04 "
       ]
      },
      {
       "output_type": "stream",
       "stream": "stdout",
       "text": [
        "\n",
        "247 book/0963/010026\n",
        "    0.00 1.00 0.04 "
       ]
      },
      {
       "output_type": "stream",
       "stream": "stdout",
       "text": [
        "\n",
        "248 book/0969/010034\n",
        "    0.00 1.00 0.04 "
       ]
      },
      {
       "output_type": "stream",
       "stream": "stdout",
       "text": [
        "\n",
        "249 book/0969/010098\n",
        "    0.00 1.00 0.04 "
       ]
      },
      {
       "output_type": "stream",
       "stream": "stdout",
       "text": [
        "\n",
        "250 book/0971/010005\n",
        "    0.00 1.00 0.04 "
       ]
      },
      {
       "output_type": "stream",
       "stream": "stdout",
       "text": [
        "\n",
        "251 book/0972/010026\n",
        "    0.00 1.00 0.04 "
       ]
      },
      {
       "output_type": "stream",
       "stream": "stdout",
       "text": [
        "\n",
        "252 book/0972/010043\n",
        "    0.00 1.00 0.04 "
       ]
      },
      {
       "output_type": "stream",
       "stream": "stdout",
       "text": [
        "\n",
        "253 book/0974/010042\n",
        "    0.00 1.00 0.04 "
       ]
      },
      {
       "output_type": "stream",
       "stream": "stdout",
       "text": [
        "\n",
        "254 book/0981/010043\n",
        "    0.00 1.00 0.04 "
       ]
      },
      {
       "output_type": "stream",
       "stream": "stdout",
       "text": [
        "\n",
        "255 book/0989/010035\n",
        "    0.00 1.00 0.04 "
       ]
      },
      {
       "output_type": "stream",
       "stream": "stdout",
       "text": [
        "\n",
        "256 book/0995/010028\n",
        "    0.00 1.00 0.04 "
       ]
      },
      {
       "output_type": "stream",
       "stream": "stdout",
       "text": [
        "\n",
        "257 book/0999/010003\n",
        "    0.00 1.00 0.04 "
       ]
      },
      {
       "output_type": "stream",
       "stream": "stdout",
       "text": [
        "\n",
        "258 book/0999/010022\n",
        "    0.00 1.00 0.04 "
       ]
      },
      {
       "output_type": "stream",
       "stream": "stdout",
       "text": [
        "\n",
        "259 book/0999/010034\n",
        "    0.00 1.00 0.04 "
       ]
      },
      {
       "output_type": "stream",
       "stream": "stdout",
       "text": [
        "\n",
        "260 book/0999/010047\n",
        "261 book/0999/010050\n",
        "    0.00 1.00 0.04 "
       ]
      },
      {
       "output_type": "stream",
       "stream": "stdout",
       "text": [
        "\n",
        "262 book/1001/010061\n",
        "    0.00 1.00 0.04 "
       ]
      },
      {
       "output_type": "stream",
       "stream": "stdout",
       "text": [
        "\n",
        "263 book/1002/010025\n",
        "    0.00 1.00 0.04 "
       ]
      },
      {
       "output_type": "stream",
       "stream": "stdout",
       "text": [
        "\n",
        "264 book/1003/010049\n",
        "    0.00 1.00 0.04 "
       ]
      },
      {
       "output_type": "stream",
       "stream": "stdout",
       "text": [
        "\n",
        "265 book/1004/010017\n",
        "    0.00 1.00 0.04 "
       ]
      },
      {
       "output_type": "stream",
       "stream": "stdout",
       "text": [
        "\n",
        "266 book/1011/010053\n",
        "    0.00 1.00 0.04 "
       ]
      },
      {
       "output_type": "stream",
       "stream": "stdout",
       "text": [
        "\n",
        "267 book/1015/010015\n",
        "    0.00 1.00 0.04 "
       ]
      },
      {
       "output_type": "stream",
       "stream": "stdout",
       "text": [
        "\n",
        "268 book/1021/010037\n",
        "    0.00 1.00 0.04 "
       ]
      },
      {
       "output_type": "stream",
       "stream": "stdout",
       "text": [
        "\n",
        "269 book/1026/010010\n",
        "    0.00 1.00 0.04 "
       ]
      },
      {
       "output_type": "stream",
       "stream": "stdout",
       "text": [
        "\n",
        "270 book/1031/010014\n",
        "    0.00 1.00 0.04 "
       ]
      },
      {
       "output_type": "stream",
       "stream": "stdout",
       "text": [
        "\n",
        "271 book/1032/010071\n",
        "272 book/1036/010021\n",
        "    0.00 1.00 0.04 "
       ]
      },
      {
       "output_type": "stream",
       "stream": "stdout",
       "text": [
        "\n",
        "273 book/1038/010005\n",
        "    0.00 1.00 0.04 "
       ]
      },
      {
       "output_type": "stream",
       "stream": "stdout",
       "text": [
        "\n",
        "274 book/1039/010051\n",
        "    0.00 1.00 0.04 "
       ]
      },
      {
       "output_type": "stream",
       "stream": "stdout",
       "text": [
        "\n",
        "275 book/1040/010056\n",
        "276 book/1051/010039\n",
        "    0.00 1.00 0.04 "
       ]
      },
      {
       "output_type": "stream",
       "stream": "stdout",
       "text": [
        "\n",
        "277 book/1059/010098\n",
        "    0.00 1.00 0.04 "
       ]
      },
      {
       "output_type": "stream",
       "stream": "stdout",
       "text": [
        "\n",
        "278 book/1061/010055\n",
        "    0.00 1.00 0.04 "
       ]
      },
      {
       "output_type": "stream",
       "stream": "stdout",
       "text": [
        "\n",
        "279 book/1064/010095\n",
        "    0.00 1.00 0.04 "
       ]
      },
      {
       "output_type": "stream",
       "stream": "stdout",
       "text": [
        "\n",
        "280 book/1067/010058\n",
        "    0.00 1.00 0.04 "
       ]
      },
      {
       "output_type": "stream",
       "stream": "stdout",
       "text": [
        "\n",
        "281 book/1069/010008\n",
        "    0.00 1.00 0.04 "
       ]
      },
      {
       "output_type": "stream",
       "stream": "stdout",
       "text": [
        "\n",
        "282 book/1069/010107\n",
        "    0.00 1.00 0.04 "
       ]
      },
      {
       "output_type": "stream",
       "stream": "stdout",
       "text": [
        "\n",
        "283 book/1070/010027\n",
        "    0.00 1.00 0.04 "
       ]
      },
      {
       "output_type": "stream",
       "stream": "stdout",
       "text": [
        "\n",
        "284 book/1071/010031\n",
        "    0.00 1.00 0.04 "
       ]
      },
      {
       "output_type": "stream",
       "stream": "stdout",
       "text": [
        "\n",
        "285 book/1071/010061\n",
        "    0.00 1.00 0.04 "
       ]
      },
      {
       "output_type": "stream",
       "stream": "stdout",
       "text": [
        "\n",
        "286 book/1071/010112\n",
        "    0.00 1.00 0.04 "
       ]
      },
      {
       "output_type": "stream",
       "stream": "stdout",
       "text": [
        "\n",
        "287 book/1074/010040\n",
        "    0.00 1.00 0.04 "
       ]
      },
      {
       "output_type": "stream",
       "stream": "stdout",
       "text": [
        "\n",
        "288 book/1074/010051\n",
        "    0.00 1.00 0.04 "
       ]
      },
      {
       "output_type": "stream",
       "stream": "stdout",
       "text": [
        "\n",
        "289 book/1075/010005\n",
        "    0.00 1.00 0.04 "
       ]
      },
      {
       "output_type": "stream",
       "stream": "stdout",
       "text": [
        "\n",
        "290 book/1077/010059\n",
        "    0.00 1.00 0.04 "
       ]
      },
      {
       "output_type": "stream",
       "stream": "stdout",
       "text": [
        "\n",
        "291 book/1078/010076\n",
        "    0.00 1.00 0.04 "
       ]
      },
      {
       "output_type": "stream",
       "stream": "stdout",
       "text": [
        "\n",
        "292 book/1080/010090\n",
        "    0.00 1.00 0.04 "
       ]
      },
      {
       "output_type": "stream",
       "stream": "stdout",
       "text": [
        "\n",
        "293 book/1083/010056\n",
        "    0.00 1.00 0.04 "
       ]
      },
      {
       "output_type": "stream",
       "stream": "stdout",
       "text": [
        "\n",
        "294 book/1090/010009\n",
        "    0.00 1.00 0.04 "
       ]
      },
      {
       "output_type": "stream",
       "stream": "stdout",
       "text": [
        "\n",
        "295 book/1094/010075\n",
        "    0.00 1.00 0.04 "
       ]
      },
      {
       "output_type": "stream",
       "stream": "stdout",
       "text": [
        "\n",
        "296 book/1097/010025\n",
        "    0.00 1.00 0.04 "
       ]
      },
      {
       "output_type": "stream",
       "stream": "stdout",
       "text": [
        "\n",
        "297 book/1107/010018\n",
        "    0.00 1.00 0.04 "
       ]
      },
      {
       "output_type": "stream",
       "stream": "stdout",
       "text": [
        "\n",
        "298 book/1108/010026\n",
        "    0.00 1.00 0.04 "
       ]
      },
      {
       "output_type": "stream",
       "stream": "stdout",
       "text": [
        "\n",
        "299 book/1109/010059\n",
        "    0.00 1.00 0.04 "
       ]
      },
      {
       "output_type": "stream",
       "stream": "stdout",
       "text": [
        "\n",
        "300 book/1113/010043\n",
        "    0.00 1.00 0.04 "
       ]
      },
      {
       "output_type": "stream",
       "stream": "stdout",
       "text": [
        "\n",
        "301 book/1116/010030\n",
        "    0.00 1.00 0.04 "
       ]
      },
      {
       "output_type": "stream",
       "stream": "stdout",
       "text": [
        "\n",
        "302 book/1116/010089\n",
        "    0.00 1.00 0.04 "
       ]
      },
      {
       "output_type": "stream",
       "stream": "stdout",
       "text": [
        "\n",
        "303 book/1117/010049\n",
        "    0.00 1.00 0.04 "
       ]
      },
      {
       "output_type": "stream",
       "stream": "stdout",
       "text": [
        "\n",
        "304 book/1123/010102\n",
        "    0.00 1.00 0.04 "
       ]
      },
      {
       "output_type": "stream",
       "stream": "stdout",
       "text": [
        "\n",
        "305 book/1124/010041\n",
        "    0.00 1.00 0.04 "
       ]
      },
      {
       "output_type": "stream",
       "stream": "stdout",
       "text": [
        "\n",
        "306 book/1125/010013\n",
        "    0.00 1.00 0.04 "
       ]
      },
      {
       "output_type": "stream",
       "stream": "stdout",
       "text": [
        "\n",
        "307 book/1126/010078\n",
        "    0.00 1.00 0.04 "
       ]
      },
      {
       "output_type": "stream",
       "stream": "stdout",
       "text": [
        "\n",
        "308 book/1127/010102\n",
        "    0.00 1.00 0.04 "
       ]
      },
      {
       "output_type": "stream",
       "stream": "stdout",
       "text": [
        "\n",
        "309 book/1130/010061\n",
        "    0.00 1.00 0.04 "
       ]
      },
      {
       "output_type": "stream",
       "stream": "stdout",
       "text": [
        "\n",
        "310 book/1132/010007\n",
        "    0.00 1.00 0.04 "
       ]
      },
      {
       "output_type": "stream",
       "stream": "stdout",
       "text": [
        "\n",
        "311 book/1132/010040\n",
        "    0.00 1.00 0.04 "
       ]
      },
      {
       "output_type": "stream",
       "stream": "stdout",
       "text": [
        "\n",
        "312 book/1132/010098\n",
        "    0.00 1.00 0.04 "
       ]
      },
      {
       "output_type": "stream",
       "stream": "stdout",
       "text": [
        "\n",
        "313 book/1133/010066\n",
        "    0.00 1.00 0.04 "
       ]
      },
      {
       "output_type": "stream",
       "stream": "stdout",
       "text": [
        "\n",
        "314 book/1137/010010\n",
        "    0.00 1.00 0.04 "
       ]
      },
      {
       "output_type": "stream",
       "stream": "stdout",
       "text": [
        "\n",
        "315 book/1137/010023\n",
        "    0.00 1.00 0.04 "
       ]
      },
      {
       "output_type": "stream",
       "stream": "stdout",
       "text": [
        "\n",
        "316 book/1138/010077\n",
        "    0.00 1.00 0.04 "
       ]
      },
      {
       "output_type": "stream",
       "stream": "stdout",
       "text": [
        "\n",
        "317 book/1139/010029\n",
        "    0.00 1.00 0.04 "
       ]
      },
      {
       "output_type": "stream",
       "stream": "stdout",
       "text": [
        "\n",
        "318 book/1139/010077\n",
        "    0.00 1.00 0.04 "
       ]
      },
      {
       "output_type": "stream",
       "stream": "stdout",
       "text": [
        "\n",
        "319 book/1139/010104\n",
        "    0.00 1.00 0.04 "
       ]
      },
      {
       "output_type": "stream",
       "stream": "stdout",
       "text": [
        "\n",
        "320 book/1140/010018\n",
        "    0.00 1.00 0.04 "
       ]
      },
      {
       "output_type": "stream",
       "stream": "stdout",
       "text": [
        "\n",
        "321 book/1141/010022\n",
        "    0.00 1.00 0.04 "
       ]
      },
      {
       "output_type": "stream",
       "stream": "stdout",
       "text": [
        "\n",
        "322 book/1142/010118\n",
        "    0.00 1.00 0.04 \n",
        "323 book/1143/010021\n",
        "    0.00 1.00 0.04 "
       ]
      },
      {
       "output_type": "stream",
       "stream": "stdout",
       "text": [
        "\n",
        "324 book/1147/010030\n",
        "    0.00 1.00 0.04 "
       ]
      },
      {
       "output_type": "stream",
       "stream": "stdout",
       "text": [
        "\n",
        "325 book/1150/010008\n",
        "326 book/1152/010056\n",
        "    0.00 1.00 0.04 "
       ]
      },
      {
       "output_type": "stream",
       "stream": "stdout",
       "text": [
        "\n",
        "327 book/1152/010058\n",
        "    0.00 1.00 0.04 "
       ]
      },
      {
       "output_type": "stream",
       "stream": "stdout",
       "text": [
        "\n",
        "328 book/1152/010060\n",
        "    0.00 1.00 0.04 "
       ]
      },
      {
       "output_type": "stream",
       "stream": "stdout",
       "text": [
        "\n",
        "329 book/1155/010069\n",
        "    0.00 1.00 0.04 "
       ]
      },
      {
       "output_type": "stream",
       "stream": "stdout",
       "text": [
        "\n",
        "330 book/1158/010015\n",
        "    0.00 1.00 0.04 "
       ]
      },
      {
       "output_type": "stream",
       "stream": "stdout",
       "text": [
        "\n",
        "331 book/1158/010035\n",
        "    0.00 1.00 0.04 "
       ]
      },
      {
       "output_type": "stream",
       "stream": "stdout",
       "text": [
        "\n",
        "332 book/1158/010047\n",
        "    0.00 1.00 0.04 "
       ]
      },
      {
       "output_type": "stream",
       "stream": "stdout",
       "text": [
        "\n",
        "333 book/1158/010081\n",
        "    0.00 1.00 0.04 "
       ]
      },
      {
       "output_type": "stream",
       "stream": "stdout",
       "text": [
        "\n",
        "334 book/1160/010026\n",
        "    0.00 1.00 0.04 "
       ]
      },
      {
       "output_type": "stream",
       "stream": "stdout",
       "text": [
        "\n",
        "335 book/1161/010021\n",
        "    0.00 1.00 0.04 "
       ]
      },
      {
       "output_type": "stream",
       "stream": "stdout",
       "text": [
        "\n",
        "336 book/1162/010004\n",
        "    0.00 1.00 0.04 "
       ]
      },
      {
       "output_type": "stream",
       "stream": "stdout",
       "text": [
        "\n",
        "337 book/1164/010063\n",
        "    0.00 1.00 0.04 "
       ]
      },
      {
       "output_type": "stream",
       "stream": "stdout",
       "text": [
        "\n",
        "338 book/1164/010084\n",
        "    0.00 1.00 0.04 "
       ]
      },
      {
       "output_type": "stream",
       "stream": "stdout",
       "text": [
        "\n",
        "339 book/1168/010023\n",
        "    0.00 1.00 0.04 "
       ]
      },
      {
       "output_type": "stream",
       "stream": "stdout",
       "text": [
        "\n",
        "340 book/1169/010033\n",
        "    0.00 1.00 0.04 "
       ]
      },
      {
       "output_type": "stream",
       "stream": "stdout",
       "text": [
        "\n",
        "341 book/1169/010057\n",
        "    0.00 1.00 0.04 "
       ]
      },
      {
       "output_type": "stream",
       "stream": "stdout",
       "text": [
        "\n",
        "342 book/1169/010100\n",
        "    0.00 1.00 0.04 "
       ]
      },
      {
       "output_type": "stream",
       "stream": "stdout",
       "text": [
        "\n",
        "343 book/1170/010108\n",
        "    0.00 1.00 0.04 "
       ]
      },
      {
       "output_type": "stream",
       "stream": "stdout",
       "text": [
        "\n",
        "344 book/1171/010046\n",
        "    0.00 1.00 0.04 "
       ]
      },
      {
       "output_type": "stream",
       "stream": "stdout",
       "text": [
        "\n",
        "345 book/1174/010044\n",
        "    0.00 1.00 0.04 "
       ]
      },
      {
       "output_type": "stream",
       "stream": "stdout",
       "text": [
        "\n",
        "346 book/1175/010006\n",
        "    0.00 1.00 0.04 "
       ]
      },
      {
       "output_type": "stream",
       "stream": "stdout",
       "text": [
        "\n",
        "347 book/1177/010046\n",
        "    0.00 1.00 0.04 "
       ]
      },
      {
       "output_type": "stream",
       "stream": "stdout",
       "text": [
        "\n",
        "348 book/1180/010028\n",
        "    0.00 1.00 0.04 "
       ]
      },
      {
       "output_type": "stream",
       "stream": "stdout",
       "text": [
        "\n",
        "349 book/1183/010072\n",
        "    0.00 1.00 0.04 "
       ]
      },
      {
       "output_type": "stream",
       "stream": "stdout",
       "text": [
        "\n",
        "350 book/1184/010045\n",
        "    0.00 1.00 0.04 "
       ]
      },
      {
       "output_type": "stream",
       "stream": "stdout",
       "text": [
        "\n",
        "351 book/1185/010064\n",
        "    0.00 1.00 0.04 "
       ]
      },
      {
       "output_type": "stream",
       "stream": "stdout",
       "text": [
        "\n",
        "352 book/1193/010046\n",
        "    0.00 1.00 0.04 "
       ]
      },
      {
       "output_type": "stream",
       "stream": "stdout",
       "text": [
        "\n",
        "353 book/1199/010084\n",
        "    0.00 1.00 0.04 "
       ]
      },
      {
       "output_type": "stream",
       "stream": "stdout",
       "text": [
        "\n",
        "354 book/1206/010018\n",
        "355 book/1208/010017\n",
        "    0.00 1.00 0.04 "
       ]
      },
      {
       "output_type": "stream",
       "stream": "stdout",
       "text": [
        "\n",
        "356 book/1208/010032\n",
        "    0.00 1.00 0.04 "
       ]
      },
      {
       "output_type": "stream",
       "stream": "stdout",
       "text": [
        "\n",
        "357 book/1215/010013\n",
        "    0.00 1.00 0.04 "
       ]
      },
      {
       "output_type": "stream",
       "stream": "stdout",
       "text": [
        "\n",
        "358 book/1216/010035\n",
        "    0.00 1.00 0.04 "
       ]
      },
      {
       "output_type": "stream",
       "stream": "stdout",
       "text": [
        "\n",
        "359 book/1219/010024\n",
        "    0.00 1.00 0.04 "
       ]
      },
      {
       "output_type": "stream",
       "stream": "stdout",
       "text": [
        "\n",
        "360 book/1223/010057\n",
        "    0.00 1.00 0.04 "
       ]
      },
      {
       "output_type": "stream",
       "stream": "stdout",
       "text": [
        "\n",
        "361 book/1223/010060\n",
        "    0.00 1.00 0.04 "
       ]
      },
      {
       "output_type": "stream",
       "stream": "stdout",
       "text": [
        "\n",
        "362 book/1229/010003\n",
        "    0.00 1.00 0.04 "
       ]
      },
      {
       "output_type": "stream",
       "stream": "stdout",
       "text": [
        "\n",
        "363 book/1229/010056\n",
        "    0.00 1.00 0.04 "
       ]
      },
      {
       "output_type": "stream",
       "stream": "stdout",
       "text": [
        "\n",
        "364 book/1237/010059\n",
        "    0.00 1.00 0.04 "
       ]
      },
      {
       "output_type": "stream",
       "stream": "stdout",
       "text": [
        "\n",
        "365 book/1240/010038\n",
        "    0.00 1.00 0.04 "
       ]
      },
      {
       "output_type": "stream",
       "stream": "stdout",
       "text": [
        "\n",
        "366 book/1240/010045\n",
        "    0.00 1.00 0.04 "
       ]
      },
      {
       "output_type": "stream",
       "stream": "stdout",
       "text": [
        "\n",
        "367 book/1241/010055\n",
        "    0.00 1.00 0.04 "
       ]
      },
      {
       "output_type": "stream",
       "stream": "stdout",
       "text": [
        "\n",
        "368 book/1243/010056\n",
        "    0.00 1.00 0.04 "
       ]
      },
      {
       "output_type": "stream",
       "stream": "stdout",
       "text": [
        "\n",
        "369 book/1244/010003\n",
        "    0.00 1.00 0.04 "
       ]
      },
      {
       "output_type": "stream",
       "stream": "stdout",
       "text": [
        "\n",
        "370 book/1252/010028\n",
        "371 book/1252/010051\n",
        "    0.00 1.00 0.04 "
       ]
      },
      {
       "output_type": "stream",
       "stream": "stdout",
       "text": [
        "\n",
        "372 book/1253/010027\n",
        "373 book/1260/010002\n",
        "    0.00 1.00 0.04 "
       ]
      },
      {
       "output_type": "stream",
       "stream": "stdout",
       "text": [
        "\n",
        "374 book/1262/010065\n",
        "    0.00 1.00 0.04 "
       ]
      },
      {
       "output_type": "stream",
       "stream": "stdout",
       "text": [
        "\n",
        "375 book/1263/010018\n",
        "    0.00 1.00 0.04 "
       ]
      },
      {
       "output_type": "stream",
       "stream": "stdout",
       "text": [
        "\n",
        "376 book/1263/010022\n",
        "    0.00 1.00 0.04 "
       ]
      },
      {
       "output_type": "stream",
       "stream": "stdout",
       "text": [
        "\n",
        "377 book/1269/010064\n",
        "    0.00 1.00 0.04 "
       ]
      },
      {
       "output_type": "stream",
       "stream": "stdout",
       "text": [
        "\n",
        "378 book/1271/010003\n",
        "379 book/1272/010076\n",
        "    0.00 1.00 0.04 "
       ]
      },
      {
       "output_type": "stream",
       "stream": "stdout",
       "text": [
        "\n",
        "380 book/1272/010077\n",
        "381 book/1276/010002\n",
        "    0.00 1.00 0.04 "
       ]
      },
      {
       "output_type": "stream",
       "stream": "stdout",
       "text": [
        "\n",
        "382 book/1282/010021\n",
        "    0.00 1.00 0.04 "
       ]
      },
      {
       "output_type": "stream",
       "stream": "stdout",
       "text": [
        "\n",
        "383 book/1286/010007\n",
        "    0.00 1.00 0.04 "
       ]
      },
      {
       "output_type": "stream",
       "stream": "stdout",
       "text": [
        "\n",
        "384 book/1286/010051\n",
        "    0.00 1.00 0.04 "
       ]
      },
      {
       "output_type": "stream",
       "stream": "stdout",
       "text": [
        "\n",
        "385 book/1295/010009\n",
        "    0.00 1.00 0.04 "
       ]
      },
      {
       "output_type": "stream",
       "stream": "stdout",
       "text": [
        "\n",
        "386 book/1305/010024\n",
        "    0.00 1.00 0.04 "
       ]
      },
      {
       "output_type": "stream",
       "stream": "stdout",
       "text": [
        "\n",
        "387 book/1307/010074\n",
        "    0.00 1.00 0.04 "
       ]
      },
      {
       "output_type": "stream",
       "stream": "stdout",
       "text": [
        "\n",
        "388 book/1314/010062\n",
        "    0.00 1.00 0.04 "
       ]
      },
      {
       "output_type": "stream",
       "stream": "stdout",
       "text": [
        "\n",
        "389 book/1317/010023\n",
        "    0.00 1.00 0.04 "
       ]
      },
      {
       "output_type": "stream",
       "stream": "stdout",
       "text": [
        "\n",
        "390 book/1318/010031\n",
        "    0.00 1.00 0.04 "
       ]
      },
      {
       "output_type": "stream",
       "stream": "stdout",
       "text": [
        "\n",
        "391 book/1319/010058\n",
        "    0.00 1.00 0.04 "
       ]
      },
      {
       "output_type": "stream",
       "stream": "stdout",
       "text": [
        "\n",
        "392 book/1320/010046\n",
        "    0.00 1.00 0.04 "
       ]
      },
      {
       "output_type": "stream",
       "stream": "stdout",
       "text": [
        "\n",
        "393 book/1323/010053\n",
        "    0.00 1.00 0.04 "
       ]
      },
      {
       "output_type": "stream",
       "stream": "stdout",
       "text": [
        "\n",
        "394 book/1325/010036\n",
        "    0.00 1.00 0.04 "
       ]
      },
      {
       "output_type": "stream",
       "stream": "stdout",
       "text": [
        "\n",
        "395 book/1329/010049\n",
        "    0.00 1.00 0.04 "
       ]
      },
      {
       "output_type": "stream",
       "stream": "stdout",
       "text": [
        "\n",
        "396 book/1335/010027\n",
        "    0.00 1.00 0.04 "
       ]
      },
      {
       "output_type": "stream",
       "stream": "stdout",
       "text": [
        "\n",
        "397 book/1336/010071\n",
        "    0.00 1.00 0.04 "
       ]
      },
      {
       "output_type": "stream",
       "stream": "stdout",
       "text": [
        "\n",
        "398 book/1337/010044\n",
        "    0.00 1.00 0.04 "
       ]
      },
      {
       "output_type": "stream",
       "stream": "stdout",
       "text": [
        "\n",
        "399 book/1339/010054\n",
        "    0.00 1.00 0.04 "
       ]
      },
      {
       "output_type": "stream",
       "stream": "stdout",
       "text": [
        "\n",
        "400 book/1346/010012\n",
        "    0.00 1.00 0.04 "
       ]
      },
      {
       "output_type": "stream",
       "stream": "stdout",
       "text": [
        "\n",
        "401 book/1348/010024\n",
        "    0.00 1.00 0.04 "
       ]
      },
      {
       "output_type": "stream",
       "stream": "stdout",
       "text": [
        "\n",
        "402 book/1352/010022\n",
        "    0.00 1.00 0.04 "
       ]
      },
      {
       "output_type": "stream",
       "stream": "stdout",
       "text": [
        "\n",
        "403 book/1355/010089\n",
        "    0.00 1.00 0.04 "
       ]
      },
      {
       "output_type": "stream",
       "stream": "stdout",
       "text": [
        "\n",
        "404 book/1357/010001\n",
        "    0.00 1.00 0.04 "
       ]
      },
      {
       "output_type": "stream",
       "stream": "stdout",
       "text": [
        "\n",
        "405 book/1362/010055\n",
        "    0.00 1.00 0.04 "
       ]
      },
      {
       "output_type": "stream",
       "stream": "stdout",
       "text": [
        "\n",
        "406 book/1362/010116\n",
        "    0.00 1.00 0.04 "
       ]
      },
      {
       "output_type": "stream",
       "stream": "stdout",
       "text": [
        "\n",
        "407 book/1363/010007\n",
        "    0.00 1.00 0.04 "
       ]
      },
      {
       "output_type": "stream",
       "stream": "stdout",
       "text": [
        "\n",
        "408 book/1367/010084\n",
        "    0.00 1.00 0.04 "
       ]
      },
      {
       "output_type": "stream",
       "stream": "stdout",
       "text": [
        "\n",
        "409 book/1371/010031\n",
        "    0.00 1.00 0.04 "
       ]
      },
      {
       "output_type": "stream",
       "stream": "stdout",
       "text": [
        "\n",
        "410 book/1375/010007\n",
        "    0.00 1.00 0.04 "
       ]
      },
      {
       "output_type": "stream",
       "stream": "stdout",
       "text": [
        "\n",
        "411 book/1376/010006\n",
        "    0.00 1.00 0.04 "
       ]
      },
      {
       "output_type": "stream",
       "stream": "stdout",
       "text": [
        "\n",
        "412 book/1377/010039\n",
        "    0.00 1.00 0.04 "
       ]
      },
      {
       "output_type": "stream",
       "stream": "stdout",
       "text": [
        "\n",
        "413 book/1380/010003\n",
        "    0.00 1.00 0.04 "
       ]
      },
      {
       "output_type": "stream",
       "stream": "stdout",
       "text": [
        "\n",
        "414 book/1380/010086\n",
        "    0.00 1.00 0.04 "
       ]
      },
      {
       "output_type": "stream",
       "stream": "stdout",
       "text": [
        "\n",
        "415 book/1386/010032\n",
        "    0.00 1.00 0.04 "
       ]
      },
      {
       "output_type": "stream",
       "stream": "stdout",
       "text": [
        "\n",
        "416 book/1387/010035\n",
        "    0.00 1.00 0.04 "
       ]
      },
      {
       "output_type": "stream",
       "stream": "stdout",
       "text": [
        "\n",
        "417 book/1387/010064\n",
        "    0.00 1.00 0.04 "
       ]
      },
      {
       "output_type": "stream",
       "stream": "stdout",
       "text": [
        "\n",
        "418 book/1389/010003\n",
        "    0.00 1.00 0.04 "
       ]
      },
      {
       "output_type": "stream",
       "stream": "stdout",
       "text": [
        "\n",
        "419 book/1392/010041\n",
        "    0.00 1.00 0.04 "
       ]
      },
      {
       "output_type": "stream",
       "stream": "stdout",
       "text": [
        "\n",
        "420 book/1394/010045\n",
        "    0.00 1.00 0.04 "
       ]
      },
      {
       "output_type": "stream",
       "stream": "stdout",
       "text": [
        "\n",
        "421 book/1394/010089\n",
        "    0.00 1.00 0.04 "
       ]
      },
      {
       "output_type": "stream",
       "stream": "stdout",
       "text": [
        "\n",
        "422 book/1395/010044\n",
        "    0.00 1.00 0.04 "
       ]
      },
      {
       "output_type": "stream",
       "stream": "stdout",
       "text": [
        "\n",
        "423 book/1398/010015\n",
        "    0.00 1.00 0.04 "
       ]
      },
      {
       "output_type": "stream",
       "stream": "stdout",
       "text": [
        "\n",
        "424 book/1402/010020\n",
        "    0.00 1.00 0.04 "
       ]
      },
      {
       "output_type": "stream",
       "stream": "stdout",
       "text": [
        "\n",
        "425 book/1406/010041\n",
        "    0.00 1.00 0.04 "
       ]
      },
      {
       "output_type": "stream",
       "stream": "stdout",
       "text": [
        "\n",
        "426 book/1409/010004\n",
        "    0.00 1.00 0.04 "
       ]
      },
      {
       "output_type": "stream",
       "stream": "stdout",
       "text": [
        "\n",
        "427 book/1415/010004\n",
        "    0.00 1.00 0.04 "
       ]
      },
      {
       "output_type": "stream",
       "stream": "stdout",
       "text": [
        "\n",
        "428 book/1417/010035\n",
        "    0.00 1.00 0.04 "
       ]
      },
      {
       "output_type": "stream",
       "stream": "stdout",
       "text": [
        "\n",
        "429 book/1418/010025\n",
        "430 book/1418/010045\n",
        "    0.00 1.00 0.04 "
       ]
      },
      {
       "output_type": "stream",
       "stream": "stdout",
       "text": [
        "\n",
        "431 book/1418/010052\n",
        "    0.00 1.00 0.04 "
       ]
      },
      {
       "output_type": "stream",
       "stream": "stdout",
       "text": [
        "\n",
        "432 book/1420/010013\n",
        "    0.00 1.00 0.04 "
       ]
      },
      {
       "output_type": "stream",
       "stream": "stdout",
       "text": [
        "\n",
        "433 book/1420/010059\n",
        "    0.00 1.00 0.04 "
       ]
      },
      {
       "output_type": "stream",
       "stream": "stdout",
       "text": [
        "\n",
        "434 book/1422/010016\n",
        "    0.00 1.00 0.04 "
       ]
      },
      {
       "output_type": "stream",
       "stream": "stdout",
       "text": [
        "\n",
        "435 book/1423/010042\n",
        "    0.00 1.00 0.04 "
       ]
      },
      {
       "output_type": "stream",
       "stream": "stdout",
       "text": [
        "\n",
        "436 book/1425/010035\n",
        "    0.00 1.00 0.04 "
       ]
      },
      {
       "output_type": "stream",
       "stream": "stdout",
       "text": [
        "\n",
        "437 book/1430/010025\n",
        "438 book/1432/010005\n",
        "    0.00 1.00 0.04 "
       ]
      },
      {
       "output_type": "stream",
       "stream": "stdout",
       "text": [
        "\n",
        "439 book/1435/010035\n",
        "    0.00 1.00 0.04 "
       ]
      },
      {
       "output_type": "stream",
       "stream": "stdout",
       "text": [
        "\n",
        "440 book/1437/010049\n",
        "    0.00 1.00 0.04 "
       ]
      },
      {
       "output_type": "stream",
       "stream": "stdout",
       "text": [
        "\n",
        "441 book/1442/010117\n",
        "    0.00 1.00 0.04 "
       ]
      },
      {
       "output_type": "stream",
       "stream": "stdout",
       "text": [
        "\n",
        "442 book/1443/010072\n",
        "    0.00 1.00 0.04 "
       ]
      },
      {
       "output_type": "stream",
       "stream": "stdout",
       "text": [
        "\n",
        "443 book/1443/010083\n",
        "    0.00 1.00 0.04 "
       ]
      },
      {
       "output_type": "stream",
       "stream": "stdout",
       "text": [
        "\n",
        "444 book/1447/010091\n",
        "    0.00 1.00 0.04 "
       ]
      },
      {
       "output_type": "stream",
       "stream": "stdout",
       "text": [
        "\n",
        "445 book/1449/010014\n",
        "    0.00 1.00 0.04 "
       ]
      },
      {
       "output_type": "stream",
       "stream": "stdout",
       "text": [
        "\n",
        "446 book/1449/010051\n",
        "    0.00 1.00 0.04 "
       ]
      },
      {
       "output_type": "stream",
       "stream": "stdout",
       "text": [
        "\n",
        "447 book/1449/010075\n",
        "    0.00 1.00 0.04 "
       ]
      },
      {
       "output_type": "stream",
       "stream": "stdout",
       "text": [
        "\n",
        "448 book/1452/010022\n",
        "    0.00 1.00 0.04 "
       ]
      },
      {
       "output_type": "stream",
       "stream": "stdout",
       "text": [
        "\n",
        "449 book/1453/010018\n",
        "    0.00 1.00 0.04 "
       ]
      },
      {
       "output_type": "stream",
       "stream": "stdout",
       "text": [
        "\n",
        "450 book/1458/010008\n",
        "    0.00 1.00 0.04 "
       ]
      },
      {
       "output_type": "stream",
       "stream": "stdout",
       "text": [
        "\n",
        "451 book/1459/010040\n",
        "452 book/1462/010070\n",
        "    0.00 1.00 0.04 "
       ]
      },
      {
       "output_type": "stream",
       "stream": "stdout",
       "text": [
        "\n",
        "453 book/1466/010046\n",
        "    0.00 1.00 0.04 "
       ]
      },
      {
       "output_type": "stream",
       "stream": "stdout",
       "text": [
        "\n",
        "454 book/1469/010006\n",
        "    0.00 1.00 0.04 "
       ]
      },
      {
       "output_type": "stream",
       "stream": "stdout",
       "text": [
        "\n",
        "455 book/1469/010008\n",
        "    0.00 1.00 0.04 "
       ]
      },
      {
       "output_type": "stream",
       "stream": "stdout",
       "text": [
        "\n",
        "456 book/1471/010085\n",
        "    0.00 1.00 0.04 "
       ]
      },
      {
       "output_type": "stream",
       "stream": "stdout",
       "text": [
        "\n",
        "457 book/1473/010041\n",
        "    0.00 1.00 0.04 "
       ]
      },
      {
       "output_type": "stream",
       "stream": "stdout",
       "text": [
        "\n",
        "458 book/1477/010049\n",
        "    0.00 1.00 0.04 "
       ]
      },
      {
       "output_type": "stream",
       "stream": "stdout",
       "text": [
        "\n",
        "459 book/1477/010082\n",
        "    0.00 1.00 0.04 "
       ]
      },
      {
       "output_type": "stream",
       "stream": "stdout",
       "text": [
        "\n",
        "460 book/1478/010047\n",
        "    0.00 1.00 0.04 "
       ]
      },
      {
       "output_type": "stream",
       "stream": "stdout",
       "text": [
        "\n",
        "461 book/1480/010084\n",
        "    0.00 1.00 0.04 "
       ]
      },
      {
       "output_type": "stream",
       "stream": "stdout",
       "text": [
        "\n",
        "462 book/1482/010042\n",
        "    0.00 1.00 0.04 "
       ]
      },
      {
       "output_type": "stream",
       "stream": "stdout",
       "text": [
        "\n",
        "463 book/1483/010002\n",
        "    0.00 1.00 0.04 "
       ]
      },
      {
       "output_type": "stream",
       "stream": "stdout",
       "text": [
        "\n",
        "464 book/1488/010042\n",
        "    0.00 1.00 0.04 "
       ]
      },
      {
       "output_type": "stream",
       "stream": "stdout",
       "text": [
        "\n",
        "465 book/1489/010089\n",
        "    0.00 1.00 0.04 "
       ]
      },
      {
       "output_type": "stream",
       "stream": "stdout",
       "text": [
        "\n",
        "466 book/1489/010091\n",
        "    0.00 1.00 0.04 "
       ]
      },
      {
       "output_type": "stream",
       "stream": "stdout",
       "text": [
        "\n",
        "467 book/1490/010065\n",
        "    0.00 1.00 0.04 "
       ]
      },
      {
       "output_type": "stream",
       "stream": "stdout",
       "text": [
        "\n",
        "468 book/1492/010014\n",
        "    0.00 1.00 0.04 "
       ]
      },
      {
       "output_type": "stream",
       "stream": "stdout",
       "text": [
        "\n",
        "469 book/1502/010044\n",
        "    0.00 1.00 0.04 "
       ]
      },
      {
       "output_type": "stream",
       "stream": "stdout",
       "text": [
        "\n",
        "470 book/1502/010057\n",
        "    0.00 1.00 0.04 "
       ]
      },
      {
       "output_type": "stream",
       "stream": "stdout",
       "text": [
        "\n",
        "471 book/1507/010042\n",
        "    0.00 1.00 0.04 "
       ]
      },
      {
       "output_type": "stream",
       "stream": "stdout",
       "text": [
        "\n",
        "472 book/1508/010033\n",
        "    0.00 1.00 0.04 "
       ]
      },
      {
       "output_type": "stream",
       "stream": "stdout",
       "text": [
        "\n",
        "473 book/1519/010046\n",
        "    0.00 1.00 0.04 "
       ]
      },
      {
       "output_type": "stream",
       "stream": "stdout",
       "text": [
        "\n",
        "474 book/1520/010021\n",
        "    0.00 1.00 0.04 "
       ]
      },
      {
       "output_type": "stream",
       "stream": "stdout",
       "text": [
        "\n",
        "475 book/1522/010058\n",
        "    0.00 1.00 0.04 "
       ]
      },
      {
       "output_type": "stream",
       "stream": "stdout",
       "text": [
        "\n",
        "476 book/1522/010065\n",
        "    0.00 1.00 0.04 "
       ]
      },
      {
       "output_type": "stream",
       "stream": "stdout",
       "text": [
        "\n",
        "477 book/1523/010039\n",
        "    0.00 1.00 0.04 "
       ]
      },
      {
       "output_type": "stream",
       "stream": "stdout",
       "text": [
        "\n",
        "478 book/1524/010099\n",
        "    0.00 1.00 0.04 "
       ]
      },
      {
       "output_type": "stream",
       "stream": "stdout",
       "text": [
        "\n",
        "479 book/1526/010034\n",
        "    0.00 1.00 0.04 "
       ]
      },
      {
       "output_type": "stream",
       "stream": "stdout",
       "text": [
        "\n",
        "480 book/1526/010049\n",
        "    0.00 1.00 0.04 "
       ]
      },
      {
       "output_type": "stream",
       "stream": "stdout",
       "text": [
        "\n",
        "481 book/1528/010010\n",
        "    0.00 1.00 0.04 "
       ]
      },
      {
       "output_type": "stream",
       "stream": "stdout",
       "text": [
        "\n",
        "482 book/1531/010022\n",
        "    0.00 1.00 0.04 "
       ]
      },
      {
       "output_type": "stream",
       "stream": "stdout",
       "text": [
        "\n",
        "483 book/1534/010061\n",
        "    0.00 1.00 0.04 "
       ]
      },
      {
       "output_type": "stream",
       "stream": "stdout",
       "text": [
        "\n",
        "484 book/1539/010002\n",
        "    0.00 1.00 0.04 "
       ]
      },
      {
       "output_type": "stream",
       "stream": "stdout",
       "text": [
        "\n",
        "485 book/1544/010022\n",
        "    0.00 1.00 0.04 "
       ]
      },
      {
       "output_type": "stream",
       "stream": "stdout",
       "text": [
        "\n",
        "486 book/1546/010031\n",
        "    0.00 1.00 0.04 "
       ]
      },
      {
       "output_type": "stream",
       "stream": "stdout",
       "text": [
        "\n",
        "487 book/1547/010006\n",
        "    0.00 1.00 0.04 "
       ]
      },
      {
       "output_type": "stream",
       "stream": "stdout",
       "text": [
        "\n",
        "488 book/1547/010052\n",
        "    0.00 1.00 0.04 "
       ]
      },
      {
       "output_type": "stream",
       "stream": "stdout",
       "text": [
        "\n",
        "489 book/1548/010046\n",
        "    0.00 1.00 0.04 "
       ]
      },
      {
       "output_type": "stream",
       "stream": "stdout",
       "text": [
        "\n",
        "490 book/1549/010041\n",
        "    0.00 1.00 0.04 "
       ]
      },
      {
       "output_type": "stream",
       "stream": "stdout",
       "text": [
        "\n",
        "491 book/1552/010017\n",
        "    0.00 1.00 0.04 "
       ]
      },
      {
       "output_type": "stream",
       "stream": "stdout",
       "text": [
        "\n",
        "492 book/1554/010025\n",
        "    0.00 1.00 0.04 "
       ]
      },
      {
       "output_type": "stream",
       "stream": "stdout",
       "text": [
        "\n",
        "493 book/1557/010034\n",
        "    0.00 1.00 0.04 "
       ]
      },
      {
       "output_type": "stream",
       "stream": "stdout",
       "text": [
        "\n",
        "494 book/1568/010075\n",
        "    0.00 1.00 0.04 "
       ]
      },
      {
       "output_type": "stream",
       "stream": "stdout",
       "text": [
        "\n",
        "495 book/1569/010076\n",
        "    0.00 1.00 0.04 "
       ]
      },
      {
       "output_type": "stream",
       "stream": "stdout",
       "text": [
        "\n",
        "496 book/1583/010065\n",
        "    0.00 1.00 0.04 "
       ]
      },
      {
       "output_type": "stream",
       "stream": "stdout",
       "text": [
        "\n",
        "497 book/1590/010011\n",
        "    0.00 1.00 0.04 "
       ]
      },
      {
       "output_type": "stream",
       "stream": "stdout",
       "text": [
        "\n",
        "498 book/1591/010070\n",
        "    0.00 1.00 0.04 "
       ]
      },
      {
       "output_type": "stream",
       "stream": "stdout",
       "text": [
        "\n",
        "499 book/1599/010019\n",
        "    0.00 1.00 0.04 "
       ]
      },
      {
       "output_type": "stream",
       "stream": "stdout",
       "text": [
        "\n"
       ]
      },
      {
       "output_type": "stream",
       "stream": "stderr",
       "text": [
        "/usr/local/lib/python2.7/dist-packages/ocrolib/common.py:205: RuntimeWarning: overflow encountered in ubyte_scalars\n",
        "  return array(a>0.5*(amin(a)+amax(a)),dtype)\n"
       ]
      }
     ],
     "prompt_number": 7
    },
    {
     "cell_type": "code",
     "collapsed": false,
     "input": [
      "figsize(12,12)\n",
      "from scipy.ndimage import filters\n",
      "subplot(311); imshow(image[:,:100],cmap=cm.gray)\n",
      "subplot(312); imshow(targets[:200].T,cmap=cm.GnBu)\n",
      "subplot(313); imshow(output[:200,1:].T,cmap=cm.GnBu,interpolation='nearest')"
     ],
     "language": "python",
     "metadata": {},
     "outputs": [
      {
       "output_type": "pyout",
       "prompt_number": 19,
       "text": [
        "<matplotlib.image.AxesImage at 0x8aae5d0>"
       ]
      },
      {
       "output_type": "display_data",
       "png": "[encoded data removed]"
      }
     ],
     "prompt_number": 19
    },
    {
     "cell_type": "code",
     "collapsed": false,
     "input": [
      "output[0]"
     ],
     "language": "python",
     "metadata": {},
     "outputs": [
      {
       "output_type": "pyout",
       "prompt_number": 9,
       "text": [
        "array([  9.53170774e-01,   1.80383992e-02,   5.59071074e-04,\n",
        "         9.36377341e-03,   1.64509713e-03,   8.86173248e-03,\n",
        "         4.10692528e-02,   1.69923058e-02,   1.08504091e-02,\n",
        "         1.64489499e-02,   1.22347570e-02,   5.59485269e-03,\n",
        "         2.00614309e-02,   1.66951866e-02,   4.40209890e-03,\n",
        "         7.60272311e-03,   3.42717287e-03,   2.25939920e-03,\n",
        "         1.23889935e-02,   4.49471024e-03,   1.78385102e-02,\n",
        "         3.70751622e-03,   1.19184175e-02,   3.57816177e-03,\n",
        "         1.05714083e-02,   1.14324797e-02,   1.00047614e-02,\n",
        "         1.30753365e-02,   1.19394016e-02,   2.40347781e-03,\n",
        "         2.73639984e-02,   1.29734022e-02,   3.66439486e-03,\n",
        "         1.22257735e-03,   4.31065960e-03,   1.10597608e-02,\n",
        "         2.50153919e-02,   8.67396121e-03,   8.56830334e-03,\n",
        "         3.75548799e-03,   1.30018524e-02,   1.24939766e-02,\n",
        "         1.56424111e-02,   1.23539989e-03,   2.28173121e-03,\n",
        "         1.34442168e-02,   1.39108939e-02,   1.41493936e-02,\n",
        "         4.09661205e-03,   3.47557935e-03,   2.36123020e-04,\n",
        "         5.77417972e-03,   3.36388131e-03,   5.24577226e-03,\n",
        "         4.75255999e-03,   6.66082066e-03,   7.64481689e-03,\n",
        "         8.40002614e-03,   3.88159663e-03,   6.02469714e-03,\n",
        "         1.52282085e-02,   1.10689088e-02,   2.28438712e-02,\n",
        "         1.10603409e-02,   8.17539921e-03,   2.83496725e-03,\n",
        "         1.11405923e-02,   1.24040498e-02,   1.21510745e-02,\n",
        "         1.59268155e-02,   1.25075505e-02,   5.75137276e-03,\n",
        "         1.82191577e-02,   8.57998552e-03,   1.18239646e-02,\n",
        "         5.22777546e-03,   4.06600751e-03,   6.06208475e-03,\n",
        "         9.28058942e-03,   1.91156902e-02,   3.03730224e-02,\n",
        "         4.19824840e-03,   7.85970373e-03,   6.23163907e-03,\n",
        "         4.92526533e-03,   1.15582883e-02,   8.88475583e-03,\n",
        "         1.35093172e-03,   1.72712149e-02,   1.99070080e-03,\n",
        "         1.40555608e-02,   2.14835228e-03,   2.67643801e-03,\n",
        "         3.84050960e-03,   1.00972706e-02])"
       ]
      }
     ],
     "prompt_number": 9
    },
    {
     "cell_type": "code",
     "collapsed": false,
     "input": [],
     "language": "python",
     "metadata": {},
     "outputs": [],
     "prompt_number": 9
    }
   ],
   "metadata": {}
  }
 ]
}